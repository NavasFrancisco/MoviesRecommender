{
 "cells": [
  {
   "cell_type": "markdown",
   "metadata": {},
   "source": [
    "This dataset describes 5-star rating and free-text tagging activity from [MovieLens](http://movielens.org), a movie recommendation service. It contains 100836 ratings and 3683 tag applications across 9742 movies. These data were created by 610 users between March 29, 1996 and September 24, 2018. This dataset was generated on September 26, 2018.\n",
    "\n",
    "Users were selected at random for inclusion. All selected users had rated at least 20 movies. No demographic information is included. Each user is represented by an id, and no other information is provided.\n",
    "\n",
    "The data are contained in the files 'links.csv', 'movies.csv', 'ratings.csv' and 'tags.csv'. More details about the contents and use of all these files follows:\n",
    "\n",
    "- User Ids: Unique and anonymized.\n",
    "- Movies Ids: Only movies with at least one rating. "
   ]
  },
  {
   "cell_type": "code",
   "execution_count": 68,
   "metadata": {},
   "outputs": [
    {
     "name": "stdout",
     "output_type": "stream",
     "text": [
      "Requirement already satisfied: surprise in a:\\programs\\autre\\anaconda\\envs\\tf\\lib\\site-packages (0.1)\n",
      "Requirement already satisfied: scikit-surprise in a:\\programs\\autre\\anaconda\\envs\\tf\\lib\\site-packages (from surprise) (1.1.1)\n",
      "Requirement already satisfied: joblib>=0.11 in a:\\programs\\autre\\anaconda\\envs\\tf\\lib\\site-packages (from scikit-surprise->surprise) (1.0.1)\n",
      "Requirement already satisfied: numpy>=1.11.2 in a:\\programs\\autre\\anaconda\\envs\\tf\\lib\\site-packages (from scikit-surprise->surprise) (1.19.2)\n",
      "Requirement already satisfied: scipy>=1.0.0 in a:\\programs\\autre\\anaconda\\envs\\tf\\lib\\site-packages (from scikit-surprise->surprise) (1.5.2)\n",
      "Requirement already satisfied: six>=1.10.0 in a:\\programs\\autre\\anaconda\\envs\\tf\\lib\\site-packages (from scikit-surprise->surprise) (1.15.0)\n",
      "Note: you may need to restart the kernel to use updated packages.\n"
     ]
    }
   ],
   "source": [
    "pip install surprise"
   ]
  },
  {
   "cell_type": "code",
   "execution_count": 69,
   "metadata": {},
   "outputs": [
    {
     "name": "stdout",
     "output_type": "stream",
     "text": [
      "Requirement already satisfied: wordcloud in a:\\programs\\autre\\anaconda\\envs\\tf\\lib\\site-packages (1.8.1)\n",
      "Requirement already satisfied: pillow in a:\\programs\\autre\\anaconda\\envs\\tf\\lib\\site-packages (from wordcloud) (8.1.0)\n",
      "Requirement already satisfied: numpy>=1.6.1 in a:\\programs\\autre\\anaconda\\envs\\tf\\lib\\site-packages (from wordcloud) (1.19.2)\n",
      "Requirement already satisfied: matplotlib in a:\\programs\\autre\\anaconda\\envs\\tf\\lib\\site-packages (from wordcloud) (3.3.3)\n",
      "Requirement already satisfied: cycler>=0.10 in a:\\programs\\autre\\anaconda\\envs\\tf\\lib\\site-packages (from matplotlib->wordcloud) (0.10.0)\n",
      "Requirement already satisfied: kiwisolver>=1.0.1 in a:\\programs\\autre\\anaconda\\envs\\tf\\lib\\site-packages (from matplotlib->wordcloud) (1.3.1)\n",
      "Requirement already satisfied: python-dateutil>=2.1 in a:\\programs\\autre\\anaconda\\envs\\tf\\lib\\site-packages (from matplotlib->wordcloud) (2.8.1)\n",
      "Requirement already satisfied: pyparsing!=2.0.4,!=2.1.2,!=2.1.6,>=2.0.3 in a:\\programs\\autre\\anaconda\\envs\\tf\\lib\\site-packages (from matplotlib->wordcloud) (2.4.7)\n",
      "Requirement already satisfied: six in a:\\programs\\autre\\anaconda\\envs\\tf\\lib\\site-packages (from cycler>=0.10->matplotlib->wordcloud) (1.15.0)\n",
      "Note: you may need to restart the kernel to use updated packages.\n"
     ]
    }
   ],
   "source": [
    "pip install wordcloud"
   ]
  },
  {
   "cell_type": "code",
   "execution_count": 70,
   "metadata": {},
   "outputs": [],
   "source": [
    "# Let's include general porpuses libraries \n",
    "\n",
    "import pandas as pd\n",
    "import numpy as np                     # For mathematical calculations\n",
    "import seaborn as sns                  # For data visualization\n",
    "import matplotlib.pyplot as plt        # For plotting graphs\n",
    "from datetime import datetime\n",
    "from datetime import timedelta\n",
    "from wordcloud import WordCloud\n",
    "from PIL import Image\n",
    "\n",
    "%matplotlib inline"
   ]
  },
  {
   "cell_type": "markdown",
   "metadata": {},
   "source": [
    "Let's check one by one all the data we have "
   ]
  },
  {
   "cell_type": "code",
   "execution_count": 71,
   "metadata": {},
   "outputs": [
    {
     "data": {
      "text/html": [
       "<div>\n",
       "<style scoped>\n",
       "    .dataframe tbody tr th:only-of-type {\n",
       "        vertical-align: middle;\n",
       "    }\n",
       "\n",
       "    .dataframe tbody tr th {\n",
       "        vertical-align: top;\n",
       "    }\n",
       "\n",
       "    .dataframe thead th {\n",
       "        text-align: right;\n",
       "    }\n",
       "</style>\n",
       "<table border=\"1\" class=\"dataframe\">\n",
       "  <thead>\n",
       "    <tr style=\"text-align: right;\">\n",
       "      <th></th>\n",
       "      <th>userId</th>\n",
       "      <th>movieId</th>\n",
       "      <th>rating</th>\n",
       "      <th>timestamp</th>\n",
       "    </tr>\n",
       "  </thead>\n",
       "  <tbody>\n",
       "    <tr>\n",
       "      <th>0</th>\n",
       "      <td>1</td>\n",
       "      <td>1</td>\n",
       "      <td>4.0</td>\n",
       "      <td>964982703</td>\n",
       "    </tr>\n",
       "    <tr>\n",
       "      <th>1</th>\n",
       "      <td>1</td>\n",
       "      <td>3</td>\n",
       "      <td>4.0</td>\n",
       "      <td>964981247</td>\n",
       "    </tr>\n",
       "    <tr>\n",
       "      <th>2</th>\n",
       "      <td>1</td>\n",
       "      <td>6</td>\n",
       "      <td>4.0</td>\n",
       "      <td>964982224</td>\n",
       "    </tr>\n",
       "    <tr>\n",
       "      <th>3</th>\n",
       "      <td>1</td>\n",
       "      <td>47</td>\n",
       "      <td>5.0</td>\n",
       "      <td>964983815</td>\n",
       "    </tr>\n",
       "    <tr>\n",
       "      <th>4</th>\n",
       "      <td>1</td>\n",
       "      <td>50</td>\n",
       "      <td>5.0</td>\n",
       "      <td>964982931</td>\n",
       "    </tr>\n",
       "  </tbody>\n",
       "</table>\n",
       "</div>"
      ],
      "text/plain": [
       "   userId  movieId  rating  timestamp\n",
       "0       1        1     4.0  964982703\n",
       "1       1        3     4.0  964981247\n",
       "2       1        6     4.0  964982224\n",
       "3       1       47     5.0  964983815\n",
       "4       1       50     5.0  964982931"
      ]
     },
     "execution_count": 71,
     "metadata": {},
     "output_type": "execute_result"
    }
   ],
   "source": [
    "dfratings = pd.read_csv('ratings.csv')\n",
    "dfratings.head()"
   ]
  },
  {
   "cell_type": "markdown",
   "metadata": {},
   "source": [
    "Ratings are made in a 5-star scale, with half-star increments\n",
    "Timestamp data is the time when the movie was rated (Timestamps represent seconds since midnight Coordinated Universal Time (UTC) of January 1, 1970)"
   ]
  },
  {
   "cell_type": "code",
   "execution_count": 72,
   "metadata": {},
   "outputs": [
    {
     "data": {
      "text/plain": [
       "userId       0\n",
       "movieId      0\n",
       "rating       0\n",
       "timestamp    0\n",
       "dtype: int64"
      ]
     },
     "execution_count": 72,
     "metadata": {},
     "output_type": "execute_result"
    }
   ],
   "source": [
    "dfratings.isnull().sum()"
   ]
  },
  {
   "cell_type": "code",
   "execution_count": 73,
   "metadata": {},
   "outputs": [
    {
     "name": "stdout",
     "output_type": "stream",
     "text": [
      "<class 'pandas.core.frame.DataFrame'>\n",
      "RangeIndex: 100836 entries, 0 to 100835\n",
      "Data columns (total 4 columns):\n",
      " #   Column     Non-Null Count   Dtype  \n",
      "---  ------     --------------   -----  \n",
      " 0   userId     100836 non-null  int64  \n",
      " 1   movieId    100836 non-null  int64  \n",
      " 2   rating     100836 non-null  float64\n",
      " 3   timestamp  100836 non-null  int64  \n",
      "dtypes: float64(1), int64(3)\n",
      "memory usage: 3.1 MB\n"
     ]
    }
   ],
   "source": [
    "dfratings.info()"
   ]
  },
  {
   "cell_type": "markdown",
   "metadata": {},
   "source": [
    "Let's translate the timestamp in a datetime type in python"
   ]
  },
  {
   "cell_type": "code",
   "execution_count": 74,
   "metadata": {},
   "outputs": [
    {
     "data": {
      "text/plain": [
       "array([ 964982703,  964981247,  964982224, ..., 1494273047, 1493846352,\n",
       "       1493846415], dtype=int64)"
      ]
     },
     "execution_count": 74,
     "metadata": {},
     "output_type": "execute_result"
    }
   ],
   "source": [
    "dfratings['timestamp'].values"
   ]
  },
  {
   "cell_type": "code",
   "execution_count": 75,
   "metadata": {},
   "outputs": [],
   "source": [
    "dates = []\n",
    "\n",
    "for ts in dfratings['timestamp'].values:\n",
    "    dates.append((datetime.fromtimestamp((ts))))\n",
    "    \n",
    "dfratings['dates'] = dates"
   ]
  },
  {
   "cell_type": "code",
   "execution_count": 76,
   "metadata": {},
   "outputs": [
    {
     "data": {
      "text/html": [
       "<div>\n",
       "<style scoped>\n",
       "    .dataframe tbody tr th:only-of-type {\n",
       "        vertical-align: middle;\n",
       "    }\n",
       "\n",
       "    .dataframe tbody tr th {\n",
       "        vertical-align: top;\n",
       "    }\n",
       "\n",
       "    .dataframe thead th {\n",
       "        text-align: right;\n",
       "    }\n",
       "</style>\n",
       "<table border=\"1\" class=\"dataframe\">\n",
       "  <thead>\n",
       "    <tr style=\"text-align: right;\">\n",
       "      <th></th>\n",
       "      <th>userId</th>\n",
       "      <th>movieId</th>\n",
       "      <th>rating</th>\n",
       "      <th>dates</th>\n",
       "    </tr>\n",
       "  </thead>\n",
       "  <tbody>\n",
       "    <tr>\n",
       "      <th>0</th>\n",
       "      <td>1</td>\n",
       "      <td>1</td>\n",
       "      <td>4.0</td>\n",
       "      <td>2000-07-30 20:45:03</td>\n",
       "    </tr>\n",
       "    <tr>\n",
       "      <th>1</th>\n",
       "      <td>1</td>\n",
       "      <td>3</td>\n",
       "      <td>4.0</td>\n",
       "      <td>2000-07-30 20:20:47</td>\n",
       "    </tr>\n",
       "    <tr>\n",
       "      <th>2</th>\n",
       "      <td>1</td>\n",
       "      <td>6</td>\n",
       "      <td>4.0</td>\n",
       "      <td>2000-07-30 20:37:04</td>\n",
       "    </tr>\n",
       "    <tr>\n",
       "      <th>3</th>\n",
       "      <td>1</td>\n",
       "      <td>47</td>\n",
       "      <td>5.0</td>\n",
       "      <td>2000-07-30 21:03:35</td>\n",
       "    </tr>\n",
       "    <tr>\n",
       "      <th>4</th>\n",
       "      <td>1</td>\n",
       "      <td>50</td>\n",
       "      <td>5.0</td>\n",
       "      <td>2000-07-30 20:48:51</td>\n",
       "    </tr>\n",
       "  </tbody>\n",
       "</table>\n",
       "</div>"
      ],
      "text/plain": [
       "   userId  movieId  rating               dates\n",
       "0       1        1     4.0 2000-07-30 20:45:03\n",
       "1       1        3     4.0 2000-07-30 20:20:47\n",
       "2       1        6     4.0 2000-07-30 20:37:04\n",
       "3       1       47     5.0 2000-07-30 21:03:35\n",
       "4       1       50     5.0 2000-07-30 20:48:51"
      ]
     },
     "execution_count": 76,
     "metadata": {},
     "output_type": "execute_result"
    }
   ],
   "source": [
    "dfratings=dfratings.drop('timestamp', axis=1)\n",
    "dfratings.head()"
   ]
  },
  {
   "cell_type": "code",
   "execution_count": 77,
   "metadata": {},
   "outputs": [
    {
     "data": {
      "text/plain": [
       "406      20\n",
       "431      20\n",
       "595      20\n",
       "147      20\n",
       "576      20\n",
       "       ... \n",
       "274    1346\n",
       "448    1864\n",
       "474    2108\n",
       "599    2478\n",
       "414    2698\n",
       "Name: userId, Length: 610, dtype: int64"
      ]
     },
     "execution_count": 77,
     "metadata": {},
     "output_type": "execute_result"
    }
   ],
   "source": [
    "dfratings.userId.value_counts().sort_values()"
   ]
  },
  {
   "cell_type": "markdown",
   "metadata": {},
   "source": [
    "Client 474 "
   ]
  },
  {
   "cell_type": "code",
   "execution_count": 78,
   "metadata": {},
   "outputs": [
    {
     "data": {
      "text/html": [
       "<div>\n",
       "<style scoped>\n",
       "    .dataframe tbody tr th:only-of-type {\n",
       "        vertical-align: middle;\n",
       "    }\n",
       "\n",
       "    .dataframe tbody tr th {\n",
       "        vertical-align: top;\n",
       "    }\n",
       "\n",
       "    .dataframe thead th {\n",
       "        text-align: right;\n",
       "    }\n",
       "</style>\n",
       "<table border=\"1\" class=\"dataframe\">\n",
       "  <thead>\n",
       "    <tr style=\"text-align: right;\">\n",
       "      <th></th>\n",
       "      <th>userId</th>\n",
       "      <th>movieId</th>\n",
       "      <th>tag</th>\n",
       "      <th>timestamp</th>\n",
       "    </tr>\n",
       "  </thead>\n",
       "  <tbody>\n",
       "    <tr>\n",
       "      <th>0</th>\n",
       "      <td>2</td>\n",
       "      <td>60756</td>\n",
       "      <td>funny</td>\n",
       "      <td>1445714994</td>\n",
       "    </tr>\n",
       "    <tr>\n",
       "      <th>1</th>\n",
       "      <td>2</td>\n",
       "      <td>60756</td>\n",
       "      <td>Highly quotable</td>\n",
       "      <td>1445714996</td>\n",
       "    </tr>\n",
       "    <tr>\n",
       "      <th>2</th>\n",
       "      <td>2</td>\n",
       "      <td>60756</td>\n",
       "      <td>will ferrell</td>\n",
       "      <td>1445714992</td>\n",
       "    </tr>\n",
       "    <tr>\n",
       "      <th>3</th>\n",
       "      <td>2</td>\n",
       "      <td>89774</td>\n",
       "      <td>Boxing story</td>\n",
       "      <td>1445715207</td>\n",
       "    </tr>\n",
       "    <tr>\n",
       "      <th>4</th>\n",
       "      <td>2</td>\n",
       "      <td>89774</td>\n",
       "      <td>MMA</td>\n",
       "      <td>1445715200</td>\n",
       "    </tr>\n",
       "  </tbody>\n",
       "</table>\n",
       "</div>"
      ],
      "text/plain": [
       "   userId  movieId              tag   timestamp\n",
       "0       2    60756            funny  1445714994\n",
       "1       2    60756  Highly quotable  1445714996\n",
       "2       2    60756     will ferrell  1445714992\n",
       "3       2    89774     Boxing story  1445715207\n",
       "4       2    89774              MMA  1445715200"
      ]
     },
     "execution_count": 78,
     "metadata": {},
     "output_type": "execute_result"
    }
   ],
   "source": [
    "dftags = pd.read_csv('tags.csv')\n",
    "dftags.head()"
   ]
  },
  {
   "cell_type": "markdown",
   "metadata": {},
   "source": [
    "This table has free-text taggind done by users. Also claissified by userId and movieId. The meaning, value, and purpose of a particular tag is determined by each user."
   ]
  },
  {
   "cell_type": "code",
   "execution_count": 79,
   "metadata": {},
   "outputs": [],
   "source": [
    "dftags = dftags.drop('timestamp', axis=1)"
   ]
  },
  {
   "cell_type": "code",
   "execution_count": 80,
   "metadata": {},
   "outputs": [
    {
     "data": {
      "text/plain": [
       "userId     0\n",
       "movieId    0\n",
       "tag        0\n",
       "dtype: int64"
      ]
     },
     "execution_count": 80,
     "metadata": {},
     "output_type": "execute_result"
    }
   ],
   "source": [
    "dftags.isnull().sum()"
   ]
  },
  {
   "cell_type": "code",
   "execution_count": 81,
   "metadata": {},
   "outputs": [
    {
     "name": "stdout",
     "output_type": "stream",
     "text": [
      "<class 'pandas.core.frame.DataFrame'>\n",
      "RangeIndex: 3683 entries, 0 to 3682\n",
      "Data columns (total 3 columns):\n",
      " #   Column   Non-Null Count  Dtype \n",
      "---  ------   --------------  ----- \n",
      " 0   userId   3683 non-null   int64 \n",
      " 1   movieId  3683 non-null   int64 \n",
      " 2   tag      3683 non-null   object\n",
      "dtypes: int64(2), object(1)\n",
      "memory usage: 86.4+ KB\n"
     ]
    }
   ],
   "source": [
    "dftags.info()"
   ]
  },
  {
   "cell_type": "code",
   "execution_count": 82,
   "metadata": {},
   "outputs": [
    {
     "data": {
      "text/html": [
       "<div>\n",
       "<style scoped>\n",
       "    .dataframe tbody tr th:only-of-type {\n",
       "        vertical-align: middle;\n",
       "    }\n",
       "\n",
       "    .dataframe tbody tr th {\n",
       "        vertical-align: top;\n",
       "    }\n",
       "\n",
       "    .dataframe thead th {\n",
       "        text-align: right;\n",
       "    }\n",
       "</style>\n",
       "<table border=\"1\" class=\"dataframe\">\n",
       "  <thead>\n",
       "    <tr style=\"text-align: right;\">\n",
       "      <th></th>\n",
       "      <th>movieId</th>\n",
       "      <th>title</th>\n",
       "      <th>genres</th>\n",
       "    </tr>\n",
       "  </thead>\n",
       "  <tbody>\n",
       "    <tr>\n",
       "      <th>0</th>\n",
       "      <td>1</td>\n",
       "      <td>Toy Story (1995)</td>\n",
       "      <td>Adventure|Animation|Children|Comedy|Fantasy</td>\n",
       "    </tr>\n",
       "    <tr>\n",
       "      <th>1</th>\n",
       "      <td>2</td>\n",
       "      <td>Jumanji (1995)</td>\n",
       "      <td>Adventure|Children|Fantasy</td>\n",
       "    </tr>\n",
       "    <tr>\n",
       "      <th>2</th>\n",
       "      <td>3</td>\n",
       "      <td>Grumpier Old Men (1995)</td>\n",
       "      <td>Comedy|Romance</td>\n",
       "    </tr>\n",
       "    <tr>\n",
       "      <th>3</th>\n",
       "      <td>4</td>\n",
       "      <td>Waiting to Exhale (1995)</td>\n",
       "      <td>Comedy|Drama|Romance</td>\n",
       "    </tr>\n",
       "    <tr>\n",
       "      <th>4</th>\n",
       "      <td>5</td>\n",
       "      <td>Father of the Bride Part II (1995)</td>\n",
       "      <td>Comedy</td>\n",
       "    </tr>\n",
       "  </tbody>\n",
       "</table>\n",
       "</div>"
      ],
      "text/plain": [
       "   movieId                               title  \\\n",
       "0        1                    Toy Story (1995)   \n",
       "1        2                      Jumanji (1995)   \n",
       "2        3             Grumpier Old Men (1995)   \n",
       "3        4            Waiting to Exhale (1995)   \n",
       "4        5  Father of the Bride Part II (1995)   \n",
       "\n",
       "                                        genres  \n",
       "0  Adventure|Animation|Children|Comedy|Fantasy  \n",
       "1                   Adventure|Children|Fantasy  \n",
       "2                               Comedy|Romance  \n",
       "3                         Comedy|Drama|Romance  \n",
       "4                                       Comedy  "
      ]
     },
     "execution_count": 82,
     "metadata": {},
     "output_type": "execute_result"
    }
   ],
   "source": [
    "dfmovies = pd.read_csv('movies.csv')\n",
    "dfmovies.head()"
   ]
  },
  {
   "cell_type": "markdown",
   "metadata": {},
   "source": [
    "Title includes the title of the movie and the year of release. They are also classified in different Genres:"
   ]
  },
  {
   "cell_type": "code",
   "execution_count": 83,
   "metadata": {},
   "outputs": [
    {
     "data": {
      "text/plain": [
       "Drama                                              1053\n",
       "Comedy                                              946\n",
       "Comedy|Drama                                        435\n",
       "Comedy|Romance                                      363\n",
       "Drama|Romance                                       349\n",
       "                                                   ... \n",
       "Action|Crime|Drama|Mystery|Sci-Fi|Thriller|IMAX       1\n",
       "Comedy|Mystery|Romance|Thriller                       1\n",
       "Children|Drama|Fantasy|Mystery                        1\n",
       "Comedy|Crime|Drama|Horror|Mystery                     1\n",
       "Adventure|Animation|Comedy|Fantasy                    1\n",
       "Name: genres, Length: 951, dtype: int64"
      ]
     },
     "execution_count": 83,
     "metadata": {},
     "output_type": "execute_result"
    }
   ],
   "source": [
    "dfmovies['genres'].value_counts()"
   ]
  },
  {
   "cell_type": "markdown",
   "metadata": {},
   "source": [
    "They belong to any of the following categories or all the possible combination between them\n",
    "* Action\n",
    "* Adventure\n",
    "* Animation\n",
    "* Children's\n",
    "* Comedy\n",
    "* Crime\n",
    "* Documentary\n",
    "* Drama\n",
    "* Fantasy\n",
    "* Film-Noir\n",
    "* Horror\n",
    "* Musical\n",
    "* Mystery\n",
    "* Romance\n",
    "* Sci-Fi\n",
    "* Thriller\n",
    "* War\n",
    "* Western"
   ]
  },
  {
   "cell_type": "code",
   "execution_count": 84,
   "metadata": {},
   "outputs": [
    {
     "data": {
      "text/plain": [
       "movieId    0\n",
       "title      0\n",
       "genres     0\n",
       "dtype: int64"
      ]
     },
     "execution_count": 84,
     "metadata": {},
     "output_type": "execute_result"
    }
   ],
   "source": [
    "dfmovies.isnull().sum()"
   ]
  },
  {
   "cell_type": "code",
   "execution_count": 85,
   "metadata": {},
   "outputs": [
    {
     "name": "stdout",
     "output_type": "stream",
     "text": [
      "<class 'pandas.core.frame.DataFrame'>\n",
      "RangeIndex: 9742 entries, 0 to 9741\n",
      "Data columns (total 3 columns):\n",
      " #   Column   Non-Null Count  Dtype \n",
      "---  ------   --------------  ----- \n",
      " 0   movieId  9742 non-null   int64 \n",
      " 1   title    9742 non-null   object\n",
      " 2   genres   9742 non-null   object\n",
      "dtypes: int64(1), object(2)\n",
      "memory usage: 228.5+ KB\n"
     ]
    }
   ],
   "source": [
    "dfmovies.info()"
   ]
  },
  {
   "cell_type": "markdown",
   "metadata": {},
   "source": [
    "let's separate title and year of release in two different columns:"
   ]
  },
  {
   "cell_type": "code",
   "execution_count": 86,
   "metadata": {},
   "outputs": [
    {
     "name": "stderr",
     "output_type": "stream",
     "text": [
      "<ipython-input-86-3026e989e222>:7: FutureWarning: The default value of regex will change from True to False in a future version.\n",
      "  dfmovies['title'] = dfmovies.title.str.replace('(\\(\\d\\d\\d\\d\\))', '')\n"
     ]
    },
    {
     "data": {
      "text/html": [
       "<div>\n",
       "<style scoped>\n",
       "    .dataframe tbody tr th:only-of-type {\n",
       "        vertical-align: middle;\n",
       "    }\n",
       "\n",
       "    .dataframe tbody tr th {\n",
       "        vertical-align: top;\n",
       "    }\n",
       "\n",
       "    .dataframe thead th {\n",
       "        text-align: right;\n",
       "    }\n",
       "</style>\n",
       "<table border=\"1\" class=\"dataframe\">\n",
       "  <thead>\n",
       "    <tr style=\"text-align: right;\">\n",
       "      <th></th>\n",
       "      <th>movieId</th>\n",
       "      <th>title</th>\n",
       "      <th>genres</th>\n",
       "      <th>year</th>\n",
       "    </tr>\n",
       "  </thead>\n",
       "  <tbody>\n",
       "    <tr>\n",
       "      <th>0</th>\n",
       "      <td>1</td>\n",
       "      <td>Toy Story</td>\n",
       "      <td>Adventure|Animation|Children|Comedy|Fantasy</td>\n",
       "      <td>1995</td>\n",
       "    </tr>\n",
       "    <tr>\n",
       "      <th>1</th>\n",
       "      <td>2</td>\n",
       "      <td>Jumanji</td>\n",
       "      <td>Adventure|Children|Fantasy</td>\n",
       "      <td>1995</td>\n",
       "    </tr>\n",
       "    <tr>\n",
       "      <th>2</th>\n",
       "      <td>3</td>\n",
       "      <td>Grumpier Old Men</td>\n",
       "      <td>Comedy|Romance</td>\n",
       "      <td>1995</td>\n",
       "    </tr>\n",
       "    <tr>\n",
       "      <th>3</th>\n",
       "      <td>4</td>\n",
       "      <td>Waiting to Exhale</td>\n",
       "      <td>Comedy|Drama|Romance</td>\n",
       "      <td>1995</td>\n",
       "    </tr>\n",
       "    <tr>\n",
       "      <th>4</th>\n",
       "      <td>5</td>\n",
       "      <td>Father of the Bride Part II</td>\n",
       "      <td>Comedy</td>\n",
       "      <td>1995</td>\n",
       "    </tr>\n",
       "    <tr>\n",
       "      <th>...</th>\n",
       "      <td>...</td>\n",
       "      <td>...</td>\n",
       "      <td>...</td>\n",
       "      <td>...</td>\n",
       "    </tr>\n",
       "    <tr>\n",
       "      <th>9737</th>\n",
       "      <td>193581</td>\n",
       "      <td>Black Butler: Book of the Atlantic</td>\n",
       "      <td>Action|Animation|Comedy|Fantasy</td>\n",
       "      <td>2017</td>\n",
       "    </tr>\n",
       "    <tr>\n",
       "      <th>9738</th>\n",
       "      <td>193583</td>\n",
       "      <td>No Game No Life: Zero</td>\n",
       "      <td>Animation|Comedy|Fantasy</td>\n",
       "      <td>2017</td>\n",
       "    </tr>\n",
       "    <tr>\n",
       "      <th>9739</th>\n",
       "      <td>193585</td>\n",
       "      <td>Flint</td>\n",
       "      <td>Drama</td>\n",
       "      <td>2017</td>\n",
       "    </tr>\n",
       "    <tr>\n",
       "      <th>9740</th>\n",
       "      <td>193587</td>\n",
       "      <td>Bungo Stray Dogs: Dead Apple</td>\n",
       "      <td>Action|Animation</td>\n",
       "      <td>2018</td>\n",
       "    </tr>\n",
       "    <tr>\n",
       "      <th>9741</th>\n",
       "      <td>193609</td>\n",
       "      <td>Andrew Dice Clay: Dice Rules</td>\n",
       "      <td>Comedy</td>\n",
       "      <td>1991</td>\n",
       "    </tr>\n",
       "  </tbody>\n",
       "</table>\n",
       "<p>9742 rows × 4 columns</p>\n",
       "</div>"
      ],
      "text/plain": [
       "      movieId                                title  \\\n",
       "0           1                           Toy Story    \n",
       "1           2                             Jumanji    \n",
       "2           3                    Grumpier Old Men    \n",
       "3           4                   Waiting to Exhale    \n",
       "4           5         Father of the Bride Part II    \n",
       "...       ...                                  ...   \n",
       "9737   193581  Black Butler: Book of the Atlantic    \n",
       "9738   193583               No Game No Life: Zero    \n",
       "9739   193585                               Flint    \n",
       "9740   193587        Bungo Stray Dogs: Dead Apple    \n",
       "9741   193609        Andrew Dice Clay: Dice Rules    \n",
       "\n",
       "                                           genres  year  \n",
       "0     Adventure|Animation|Children|Comedy|Fantasy  1995  \n",
       "1                      Adventure|Children|Fantasy  1995  \n",
       "2                                  Comedy|Romance  1995  \n",
       "3                            Comedy|Drama|Romance  1995  \n",
       "4                                          Comedy  1995  \n",
       "...                                           ...   ...  \n",
       "9737              Action|Animation|Comedy|Fantasy  2017  \n",
       "9738                     Animation|Comedy|Fantasy  2017  \n",
       "9739                                        Drama  2017  \n",
       "9740                             Action|Animation  2018  \n",
       "9741                                       Comedy  1991  \n",
       "\n",
       "[9742 rows x 4 columns]"
      ]
     },
     "execution_count": 86,
     "metadata": {},
     "output_type": "execute_result"
    }
   ],
   "source": [
    "#find a year stored between parentheses\n",
    "df_movies_initial = dfmovies.copy()\n",
    "dfmovies['year'] = dfmovies.title.str.extract('(\\(\\d\\d\\d\\d\\))',expand=False)\n",
    "#Removing the parentheses:\n",
    "dfmovies['year'] = dfmovies.year.str.extract('(\\d\\d\\d\\d)',expand=False)\n",
    "#Removing the years from the 'title' column:\n",
    "dfmovies['title'] = dfmovies.title.str.replace('(\\(\\d\\d\\d\\d\\))', '')\n",
    "dfmovies"
   ]
  },
  {
   "cell_type": "markdown",
   "metadata": {},
   "source": [
    "We do have some missing values related to the release date of some movies. Those will be manually imputed."
   ]
  },
  {
   "cell_type": "code",
   "execution_count": 87,
   "metadata": {},
   "outputs": [
    {
     "data": {
      "text/plain": [
       "13"
      ]
     },
     "execution_count": 87,
     "metadata": {},
     "output_type": "execute_result"
    }
   ],
   "source": [
    "dfmovies['year'].isnull().sum()"
   ]
  },
  {
   "cell_type": "code",
   "execution_count": 88,
   "metadata": {},
   "outputs": [
    {
     "name": "stderr",
     "output_type": "stream",
     "text": [
      "<ipython-input-88-e31fac1c5e3a>:1: SettingWithCopyWarning: \n",
      "A value is trying to be set on a copy of a slice from a DataFrame\n",
      "\n",
      "See the caveats in the documentation: https://pandas.pydata.org/pandas-docs/stable/user_guide/indexing.html#returning-a-view-versus-a-copy\n",
      "  dfmovies['year'][6059] = 1994\n",
      "<ipython-input-88-e31fac1c5e3a>:2: SettingWithCopyWarning: \n",
      "A value is trying to be set on a copy of a slice from a DataFrame\n",
      "\n",
      "See the caveats in the documentation: https://pandas.pydata.org/pandas-docs/stable/user_guide/indexing.html#returning-a-view-versus-a-copy\n",
      "  dfmovies['year'][9031] = 2018\n",
      "<ipython-input-88-e31fac1c5e3a>:3: SettingWithCopyWarning: \n",
      "A value is trying to be set on a copy of a slice from a DataFrame\n",
      "\n",
      "See the caveats in the documentation: https://pandas.pydata.org/pandas-docs/stable/user_guide/indexing.html#returning-a-view-versus-a-copy\n",
      "  dfmovies['year'][9091] = 2015\n",
      "<ipython-input-88-e31fac1c5e3a>:4: SettingWithCopyWarning: \n",
      "A value is trying to be set on a copy of a slice from a DataFrame\n",
      "\n",
      "See the caveats in the documentation: https://pandas.pydata.org/pandas-docs/stable/user_guide/indexing.html#returning-a-view-versus-a-copy\n",
      "  dfmovies['year'][9138] = 1980\n",
      "<ipython-input-88-e31fac1c5e3a>:5: SettingWithCopyWarning: \n",
      "A value is trying to be set on a copy of a slice from a DataFrame\n",
      "\n",
      "See the caveats in the documentation: https://pandas.pydata.org/pandas-docs/stable/user_guide/indexing.html#returning-a-view-versus-a-copy\n",
      "  dfmovies['year'][9179] = 2016\n",
      "<ipython-input-88-e31fac1c5e3a>:6: SettingWithCopyWarning: \n",
      "A value is trying to be set on a copy of a slice from a DataFrame\n",
      "\n",
      "See the caveats in the documentation: https://pandas.pydata.org/pandas-docs/stable/user_guide/indexing.html#returning-a-view-versus-a-copy\n",
      "  dfmovies['year'][9259] = 2016\n",
      "<ipython-input-88-e31fac1c5e3a>:7: SettingWithCopyWarning: \n",
      "A value is trying to be set on a copy of a slice from a DataFrame\n",
      "\n",
      "See the caveats in the documentation: https://pandas.pydata.org/pandas-docs/stable/user_guide/indexing.html#returning-a-view-versus-a-copy\n",
      "  dfmovies['year'][9367] = 2016\n",
      "<ipython-input-88-e31fac1c5e3a>:8: SettingWithCopyWarning: \n",
      "A value is trying to be set on a copy of a slice from a DataFrame\n",
      "\n",
      "See the caveats in the documentation: https://pandas.pydata.org/pandas-docs/stable/user_guide/indexing.html#returning-a-view-versus-a-copy\n",
      "  dfmovies['year'][9448] = 2016\n",
      "<ipython-input-88-e31fac1c5e3a>:9: SettingWithCopyWarning: \n",
      "A value is trying to be set on a copy of a slice from a DataFrame\n",
      "\n",
      "See the caveats in the documentation: https://pandas.pydata.org/pandas-docs/stable/user_guide/indexing.html#returning-a-view-versus-a-copy\n",
      "  dfmovies['year'][9514] = 2015\n",
      "<ipython-input-88-e31fac1c5e3a>:10: SettingWithCopyWarning: \n",
      "A value is trying to be set on a copy of a slice from a DataFrame\n",
      "\n",
      "See the caveats in the documentation: https://pandas.pydata.org/pandas-docs/stable/user_guide/indexing.html#returning-a-view-versus-a-copy\n",
      "  dfmovies['year'][9515] = 2017\n",
      "<ipython-input-88-e31fac1c5e3a>:11: SettingWithCopyWarning: \n",
      "A value is trying to be set on a copy of a slice from a DataFrame\n",
      "\n",
      "See the caveats in the documentation: https://pandas.pydata.org/pandas-docs/stable/user_guide/indexing.html#returning-a-view-versus-a-copy\n",
      "  dfmovies['year'][9518] = 2006\n",
      "<ipython-input-88-e31fac1c5e3a>:12: SettingWithCopyWarning: \n",
      "A value is trying to be set on a copy of a slice from a DataFrame\n",
      "\n",
      "See the caveats in the documentation: https://pandas.pydata.org/pandas-docs/stable/user_guide/indexing.html#returning-a-view-versus-a-copy\n",
      "  dfmovies['year'][9525] = 2017\n",
      "<ipython-input-88-e31fac1c5e3a>:13: SettingWithCopyWarning: \n",
      "A value is trying to be set on a copy of a slice from a DataFrame\n",
      "\n",
      "See the caveats in the documentation: https://pandas.pydata.org/pandas-docs/stable/user_guide/indexing.html#returning-a-view-versus-a-copy\n",
      "  dfmovies['year'][9611] = 2011\n"
     ]
    }
   ],
   "source": [
    "dfmovies['year'][6059] = 1994\n",
    "dfmovies['year'][9031] = 2018\n",
    "dfmovies['year'][9091] = 2015\n",
    "dfmovies['year'][9138] = 1980\n",
    "dfmovies['year'][9179] = 2016\n",
    "dfmovies['year'][9259] = 2016\n",
    "dfmovies['year'][9367] = 2016\n",
    "dfmovies['year'][9448] = 2016\n",
    "dfmovies['year'][9514] = 2015\n",
    "dfmovies['year'][9515] = 2017\n",
    "dfmovies['year'][9518] = 2006\n",
    "dfmovies['year'][9525] = 2017\n",
    "dfmovies['year'][9611] = 2011"
   ]
  },
  {
   "cell_type": "code",
   "execution_count": 89,
   "metadata": {},
   "outputs": [
    {
     "data": {
      "text/plain": [
       "0"
      ]
     },
     "execution_count": 89,
     "metadata": {},
     "output_type": "execute_result"
    }
   ],
   "source": [
    "dfmovies['year'].isnull().sum()"
   ]
  },
  {
   "cell_type": "code",
   "execution_count": 90,
   "metadata": {},
   "outputs": [],
   "source": [
    "dfmovies['year'] = dfmovies['year'].astype(int)"
   ]
  },
  {
   "cell_type": "code",
   "execution_count": 91,
   "metadata": {},
   "outputs": [
    {
     "name": "stdout",
     "output_type": "stream",
     "text": [
      "<class 'pandas.core.frame.DataFrame'>\n",
      "RangeIndex: 9742 entries, 0 to 9741\n",
      "Data columns (total 4 columns):\n",
      " #   Column   Non-Null Count  Dtype \n",
      "---  ------   --------------  ----- \n",
      " 0   movieId  9742 non-null   int64 \n",
      " 1   title    9742 non-null   object\n",
      " 2   genres   9742 non-null   object\n",
      " 3   year     9742 non-null   int32 \n",
      "dtypes: int32(1), int64(1), object(2)\n",
      "memory usage: 266.5+ KB\n"
     ]
    }
   ],
   "source": [
    "dfmovies.info()"
   ]
  },
  {
   "cell_type": "markdown",
   "metadata": {},
   "source": [
    "We separate the genres in individual columns, if a movie belongs to a speficic genre, the column is encoded with 1, otherwise 0"
   ]
  },
  {
   "cell_type": "code",
   "execution_count": 92,
   "metadata": {},
   "outputs": [],
   "source": [
    "dfmovies['Action']=dfmovies['genres'].apply(lambda x: 1 if \"Action\" in x else 0)\n",
    "dfmovies['Adventure']=dfmovies['genres'].apply(lambda x: 1 if \"Adventure\" in x else 0)\n",
    "dfmovies['Animation']=dfmovies['genres'].apply(lambda x: 1 if \"Animation\" in x else 0)\n",
    "dfmovies['Children']=dfmovies['genres'].apply(lambda x: 1 if \"Children\" in x else 0)\n",
    "dfmovies['Comedy']=dfmovies['genres'].apply(lambda x: 1 if \"Comedy\" in x else 0)\n",
    "dfmovies['Crime']=dfmovies['genres'].apply(lambda x: 1 if \"Crime\" in x else 0)\n",
    "dfmovies['Documentary']=dfmovies['genres'].apply(lambda x: 1 if \"Documentary\" in x else 0)\n",
    "dfmovies['Drama']=dfmovies['genres'].apply(lambda x: 1 if \"Drama\" in x else 0)\n",
    "dfmovies['Fantasy']=dfmovies['genres'].apply(lambda x: 1 if \"Fantasy\" in x else 0)\n",
    "dfmovies['Film-Noir']=dfmovies['genres'].apply(lambda x: 1 if \"Film-Noir\" in x else 0)\n",
    "dfmovies['Horror']=dfmovies['genres'].apply(lambda x: 1 if \"Horror\" in x else 0)\n",
    "dfmovies['Musical']=dfmovies['genres'].apply(lambda x: 1 if \"Musical\" in x else 0)\n",
    "dfmovies['Mystery']=dfmovies['genres'].apply(lambda x: 1 if \"Mystery\" in x else 0)\n",
    "dfmovies['Romance']=dfmovies['genres'].apply(lambda x: 1 if \"Romance\" in x else 0)\n",
    "dfmovies['Sci-Fi']=dfmovies['genres'].apply(lambda x: 1 if \"Sci-Fi\" in x else 0)\n",
    "dfmovies['Thriller']=dfmovies['genres'].apply(lambda x: 1 if \"Thriller\" in x else 0)\n",
    "dfmovies['War']=dfmovies['genres'].apply(lambda x: 1 if \"War\" in x else 0)\n",
    "dfmovies['Western']=dfmovies['genres'].apply(lambda x: 1 if \"Western\" in x else 0)"
   ]
  },
  {
   "cell_type": "code",
   "execution_count": 93,
   "metadata": {},
   "outputs": [
    {
     "data": {
      "text/html": [
       "<div>\n",
       "<style scoped>\n",
       "    .dataframe tbody tr th:only-of-type {\n",
       "        vertical-align: middle;\n",
       "    }\n",
       "\n",
       "    .dataframe tbody tr th {\n",
       "        vertical-align: top;\n",
       "    }\n",
       "\n",
       "    .dataframe thead th {\n",
       "        text-align: right;\n",
       "    }\n",
       "</style>\n",
       "<table border=\"1\" class=\"dataframe\">\n",
       "  <thead>\n",
       "    <tr style=\"text-align: right;\">\n",
       "      <th></th>\n",
       "      <th>movieId</th>\n",
       "      <th>title</th>\n",
       "      <th>year</th>\n",
       "      <th>Action</th>\n",
       "      <th>Adventure</th>\n",
       "      <th>Animation</th>\n",
       "      <th>Children</th>\n",
       "      <th>Comedy</th>\n",
       "      <th>Crime</th>\n",
       "      <th>Documentary</th>\n",
       "      <th>...</th>\n",
       "      <th>Fantasy</th>\n",
       "      <th>Film-Noir</th>\n",
       "      <th>Horror</th>\n",
       "      <th>Musical</th>\n",
       "      <th>Mystery</th>\n",
       "      <th>Romance</th>\n",
       "      <th>Sci-Fi</th>\n",
       "      <th>Thriller</th>\n",
       "      <th>War</th>\n",
       "      <th>Western</th>\n",
       "    </tr>\n",
       "  </thead>\n",
       "  <tbody>\n",
       "    <tr>\n",
       "      <th>0</th>\n",
       "      <td>1</td>\n",
       "      <td>Toy Story</td>\n",
       "      <td>1995</td>\n",
       "      <td>0</td>\n",
       "      <td>1</td>\n",
       "      <td>1</td>\n",
       "      <td>1</td>\n",
       "      <td>1</td>\n",
       "      <td>0</td>\n",
       "      <td>0</td>\n",
       "      <td>...</td>\n",
       "      <td>1</td>\n",
       "      <td>0</td>\n",
       "      <td>0</td>\n",
       "      <td>0</td>\n",
       "      <td>0</td>\n",
       "      <td>0</td>\n",
       "      <td>0</td>\n",
       "      <td>0</td>\n",
       "      <td>0</td>\n",
       "      <td>0</td>\n",
       "    </tr>\n",
       "    <tr>\n",
       "      <th>1</th>\n",
       "      <td>2</td>\n",
       "      <td>Jumanji</td>\n",
       "      <td>1995</td>\n",
       "      <td>0</td>\n",
       "      <td>1</td>\n",
       "      <td>0</td>\n",
       "      <td>1</td>\n",
       "      <td>0</td>\n",
       "      <td>0</td>\n",
       "      <td>0</td>\n",
       "      <td>...</td>\n",
       "      <td>1</td>\n",
       "      <td>0</td>\n",
       "      <td>0</td>\n",
       "      <td>0</td>\n",
       "      <td>0</td>\n",
       "      <td>0</td>\n",
       "      <td>0</td>\n",
       "      <td>0</td>\n",
       "      <td>0</td>\n",
       "      <td>0</td>\n",
       "    </tr>\n",
       "    <tr>\n",
       "      <th>2</th>\n",
       "      <td>3</td>\n",
       "      <td>Grumpier Old Men</td>\n",
       "      <td>1995</td>\n",
       "      <td>0</td>\n",
       "      <td>0</td>\n",
       "      <td>0</td>\n",
       "      <td>0</td>\n",
       "      <td>1</td>\n",
       "      <td>0</td>\n",
       "      <td>0</td>\n",
       "      <td>...</td>\n",
       "      <td>0</td>\n",
       "      <td>0</td>\n",
       "      <td>0</td>\n",
       "      <td>0</td>\n",
       "      <td>0</td>\n",
       "      <td>1</td>\n",
       "      <td>0</td>\n",
       "      <td>0</td>\n",
       "      <td>0</td>\n",
       "      <td>0</td>\n",
       "    </tr>\n",
       "    <tr>\n",
       "      <th>3</th>\n",
       "      <td>4</td>\n",
       "      <td>Waiting to Exhale</td>\n",
       "      <td>1995</td>\n",
       "      <td>0</td>\n",
       "      <td>0</td>\n",
       "      <td>0</td>\n",
       "      <td>0</td>\n",
       "      <td>1</td>\n",
       "      <td>0</td>\n",
       "      <td>0</td>\n",
       "      <td>...</td>\n",
       "      <td>0</td>\n",
       "      <td>0</td>\n",
       "      <td>0</td>\n",
       "      <td>0</td>\n",
       "      <td>0</td>\n",
       "      <td>1</td>\n",
       "      <td>0</td>\n",
       "      <td>0</td>\n",
       "      <td>0</td>\n",
       "      <td>0</td>\n",
       "    </tr>\n",
       "    <tr>\n",
       "      <th>4</th>\n",
       "      <td>5</td>\n",
       "      <td>Father of the Bride Part II</td>\n",
       "      <td>1995</td>\n",
       "      <td>0</td>\n",
       "      <td>0</td>\n",
       "      <td>0</td>\n",
       "      <td>0</td>\n",
       "      <td>1</td>\n",
       "      <td>0</td>\n",
       "      <td>0</td>\n",
       "      <td>...</td>\n",
       "      <td>0</td>\n",
       "      <td>0</td>\n",
       "      <td>0</td>\n",
       "      <td>0</td>\n",
       "      <td>0</td>\n",
       "      <td>0</td>\n",
       "      <td>0</td>\n",
       "      <td>0</td>\n",
       "      <td>0</td>\n",
       "      <td>0</td>\n",
       "    </tr>\n",
       "  </tbody>\n",
       "</table>\n",
       "<p>5 rows × 21 columns</p>\n",
       "</div>"
      ],
      "text/plain": [
       "   movieId                         title  year  Action  Adventure  Animation  \\\n",
       "0        1                    Toy Story   1995       0          1          1   \n",
       "1        2                      Jumanji   1995       0          1          0   \n",
       "2        3             Grumpier Old Men   1995       0          0          0   \n",
       "3        4            Waiting to Exhale   1995       0          0          0   \n",
       "4        5  Father of the Bride Part II   1995       0          0          0   \n",
       "\n",
       "   Children  Comedy  Crime  Documentary  ...  Fantasy  Film-Noir  Horror  \\\n",
       "0         1       1      0            0  ...        1          0       0   \n",
       "1         1       0      0            0  ...        1          0       0   \n",
       "2         0       1      0            0  ...        0          0       0   \n",
       "3         0       1      0            0  ...        0          0       0   \n",
       "4         0       1      0            0  ...        0          0       0   \n",
       "\n",
       "   Musical  Mystery  Romance  Sci-Fi  Thriller  War  Western  \n",
       "0        0        0        0       0         0    0        0  \n",
       "1        0        0        0       0         0    0        0  \n",
       "2        0        0        1       0         0    0        0  \n",
       "3        0        0        1       0         0    0        0  \n",
       "4        0        0        0       0         0    0        0  \n",
       "\n",
       "[5 rows x 21 columns]"
      ]
     },
     "execution_count": 93,
     "metadata": {},
     "output_type": "execute_result"
    }
   ],
   "source": [
    "dfmovies=dfmovies.drop('genres', axis=1)\n",
    "dfmovies.head()"
   ]
  },
  {
   "cell_type": "code",
   "execution_count": 94,
   "metadata": {},
   "outputs": [
    {
     "data": {
      "text/html": [
       "<div>\n",
       "<style scoped>\n",
       "    .dataframe tbody tr th:only-of-type {\n",
       "        vertical-align: middle;\n",
       "    }\n",
       "\n",
       "    .dataframe tbody tr th {\n",
       "        vertical-align: top;\n",
       "    }\n",
       "\n",
       "    .dataframe thead th {\n",
       "        text-align: right;\n",
       "    }\n",
       "</style>\n",
       "<table border=\"1\" class=\"dataframe\">\n",
       "  <thead>\n",
       "    <tr style=\"text-align: right;\">\n",
       "      <th></th>\n",
       "      <th>movieId</th>\n",
       "      <th>imdbId</th>\n",
       "      <th>tmdbId</th>\n",
       "    </tr>\n",
       "  </thead>\n",
       "  <tbody>\n",
       "    <tr>\n",
       "      <th>0</th>\n",
       "      <td>1</td>\n",
       "      <td>114709</td>\n",
       "      <td>862.0</td>\n",
       "    </tr>\n",
       "    <tr>\n",
       "      <th>1</th>\n",
       "      <td>2</td>\n",
       "      <td>113497</td>\n",
       "      <td>8844.0</td>\n",
       "    </tr>\n",
       "    <tr>\n",
       "      <th>2</th>\n",
       "      <td>3</td>\n",
       "      <td>113228</td>\n",
       "      <td>15602.0</td>\n",
       "    </tr>\n",
       "    <tr>\n",
       "      <th>3</th>\n",
       "      <td>4</td>\n",
       "      <td>114885</td>\n",
       "      <td>31357.0</td>\n",
       "    </tr>\n",
       "    <tr>\n",
       "      <th>4</th>\n",
       "      <td>5</td>\n",
       "      <td>113041</td>\n",
       "      <td>11862.0</td>\n",
       "    </tr>\n",
       "  </tbody>\n",
       "</table>\n",
       "</div>"
      ],
      "text/plain": [
       "   movieId  imdbId   tmdbId\n",
       "0        1  114709    862.0\n",
       "1        2  113497   8844.0\n",
       "2        3  113228  15602.0\n",
       "3        4  114885  31357.0\n",
       "4        5  113041  11862.0"
      ]
     },
     "execution_count": 94,
     "metadata": {},
     "output_type": "execute_result"
    }
   ],
   "source": [
    "dflinks = pd.read_csv('links.csv')\n",
    "dflinks.head()"
   ]
  },
  {
   "cell_type": "markdown",
   "metadata": {},
   "source": [
    "imdbId is the identifier of the movie in imdbId. For possible connection with http://www.imdb.com, https://www.imdb.com/title/tt0 + imdbId\n",
    "\n",
    "https://www.themoviedb.org/movie/862-toy-story for tmdbId"
   ]
  },
  {
   "cell_type": "code",
   "execution_count": 95,
   "metadata": {},
   "outputs": [
    {
     "data": {
      "text/plain": [
       "movieId    0\n",
       "imdbId     0\n",
       "tmdbId     8\n",
       "dtype: int64"
      ]
     },
     "execution_count": 95,
     "metadata": {},
     "output_type": "execute_result"
    }
   ],
   "source": [
    "dflinks.isnull().sum()"
   ]
  },
  {
   "cell_type": "code",
   "execution_count": 96,
   "metadata": {},
   "outputs": [
    {
     "name": "stdout",
     "output_type": "stream",
     "text": [
      "<class 'pandas.core.frame.DataFrame'>\n",
      "RangeIndex: 9742 entries, 0 to 9741\n",
      "Data columns (total 3 columns):\n",
      " #   Column   Non-Null Count  Dtype  \n",
      "---  ------   --------------  -----  \n",
      " 0   movieId  9742 non-null   int64  \n",
      " 1   imdbId   9742 non-null   int64  \n",
      " 2   tmdbId   9734 non-null   float64\n",
      "dtypes: float64(1), int64(2)\n",
      "memory usage: 228.5 KB\n"
     ]
    }
   ],
   "source": [
    "dflinks.info()"
   ]
  },
  {
   "cell_type": "markdown",
   "metadata": {},
   "source": [
    "Let's get a dictionary with the most commom tags in each movie"
   ]
  },
  {
   "cell_type": "code",
   "execution_count": 97,
   "metadata": {},
   "outputs": [],
   "source": [
    "dftags['tag']=dftags['tag'].str.lower() ## let's pull all of them in lowercase letters"
   ]
  },
  {
   "cell_type": "code",
   "execution_count": 98,
   "metadata": {},
   "outputs": [
    {
     "data": {
      "text/html": [
       "<div>\n",
       "<style scoped>\n",
       "    .dataframe tbody tr th:only-of-type {\n",
       "        vertical-align: middle;\n",
       "    }\n",
       "\n",
       "    .dataframe tbody tr th {\n",
       "        vertical-align: top;\n",
       "    }\n",
       "\n",
       "    .dataframe thead th {\n",
       "        text-align: right;\n",
       "    }\n",
       "</style>\n",
       "<table border=\"1\" class=\"dataframe\">\n",
       "  <thead>\n",
       "    <tr style=\"text-align: right;\">\n",
       "      <th></th>\n",
       "      <th>tag</th>\n",
       "    </tr>\n",
       "  </thead>\n",
       "  <tbody>\n",
       "    <tr>\n",
       "      <th>in netflix queue</th>\n",
       "      <td>131</td>\n",
       "    </tr>\n",
       "    <tr>\n",
       "      <th>atmospheric</th>\n",
       "      <td>41</td>\n",
       "    </tr>\n",
       "    <tr>\n",
       "      <th>thought-provoking</th>\n",
       "      <td>24</td>\n",
       "    </tr>\n",
       "    <tr>\n",
       "      <th>surreal</th>\n",
       "      <td>24</td>\n",
       "    </tr>\n",
       "    <tr>\n",
       "      <th>superhero</th>\n",
       "      <td>24</td>\n",
       "    </tr>\n",
       "    <tr>\n",
       "      <th>...</th>\n",
       "      <td>...</td>\n",
       "    </tr>\n",
       "    <tr>\n",
       "      <th>entertaining</th>\n",
       "      <td>1</td>\n",
       "    </tr>\n",
       "    <tr>\n",
       "      <th>bromantic</th>\n",
       "      <td>1</td>\n",
       "    </tr>\n",
       "    <tr>\n",
       "      <th>happpiness</th>\n",
       "      <td>1</td>\n",
       "    </tr>\n",
       "    <tr>\n",
       "      <th>peta wilson</th>\n",
       "      <td>1</td>\n",
       "    </tr>\n",
       "    <tr>\n",
       "      <th>jesse ventura</th>\n",
       "      <td>1</td>\n",
       "    </tr>\n",
       "  </tbody>\n",
       "</table>\n",
       "<p>1475 rows × 1 columns</p>\n",
       "</div>"
      ],
      "text/plain": [
       "                   tag\n",
       "in netflix queue   131\n",
       "atmospheric         41\n",
       "thought-provoking   24\n",
       "surreal             24\n",
       "superhero           24\n",
       "...                ...\n",
       "entertaining         1\n",
       "bromantic            1\n",
       "happpiness           1\n",
       "peta wilson          1\n",
       "jesse ventura        1\n",
       "\n",
       "[1475 rows x 1 columns]"
      ]
     },
     "execution_count": 98,
     "metadata": {},
     "output_type": "execute_result"
    }
   ],
   "source": [
    "pd.DataFrame(dftags['tag'].value_counts())"
   ]
  },
  {
   "cell_type": "markdown",
   "metadata": {},
   "source": [
    "Let's just keep tha values with a frequency bigger than 10"
   ]
  },
  {
   "cell_type": "code",
   "execution_count": 99,
   "metadata": {},
   "outputs": [
    {
     "data": {
      "text/plain": [
       "['in netflix queue',\n",
       " 'atmospheric',\n",
       " 'thought-provoking',\n",
       " 'surreal',\n",
       " 'superhero',\n",
       " 'funny',\n",
       " 'disney',\n",
       " 'sci-fi',\n",
       " 'quirky',\n",
       " 'religion',\n",
       " 'suspense',\n",
       " 'psychology',\n",
       " 'dark comedy',\n",
       " 'twist ending',\n",
       " 'visually appealing',\n",
       " 'politics',\n",
       " 'comedy',\n",
       " 'crime',\n",
       " 'music',\n",
       " 'mental illness',\n",
       " 'high school',\n",
       " 'time travel',\n",
       " 'action',\n",
       " 'dark',\n",
       " 'mindfuck',\n",
       " 'aliens',\n",
       " 'space',\n",
       " 'black comedy',\n",
       " 'dreamlike',\n",
       " 'disturbing',\n",
       " 'stephen king',\n",
       " 'shakespeare',\n",
       " 'holocaust',\n",
       " 'emotional',\n",
       " 'mafia',\n",
       " 'heist',\n",
       " 'journalism',\n",
       " 'anime',\n",
       " 'court',\n",
       " 'classic',\n",
       " 'christmas',\n",
       " 'satire',\n",
       " 'comic book',\n",
       " 'psychological',\n",
       " 'animation',\n",
       " 'ghosts',\n",
       " 'boxing',\n",
       " 'adolescence',\n",
       " 'imdb top 250',\n",
       " 'adultery',\n",
       " 'bittersweet']"
      ]
     },
     "execution_count": 99,
     "metadata": {},
     "output_type": "execute_result"
    }
   ],
   "source": [
    "mask = pd.DataFrame((dftags['tag'].value_counts())> 10)\n",
    "to_keep=mask.index[mask['tag'] == True].tolist() ## This are the tags to keep for our model\n",
    "to_keep"
   ]
  },
  {
   "cell_type": "code",
   "execution_count": 100,
   "metadata": {},
   "outputs": [],
   "source": [
    "# Lets use a get dummies to obtain a Onehotencoder result, then apply to_keep for only keeping the columns with a\n",
    "# frequency bigger than 10 \n",
    "dict_tags=pd.get_dummies(dftags['tag'])\n",
    "dict_tags=dict_tags[to_keep]"
   ]
  },
  {
   "cell_type": "code",
   "execution_count": 101,
   "metadata": {},
   "outputs": [],
   "source": [
    "# Lets add this to the original tags dataframe\n",
    "dftags=dftags.join(dict_tags)"
   ]
  },
  {
   "cell_type": "code",
   "execution_count": 102,
   "metadata": {},
   "outputs": [
    {
     "data": {
      "text/html": [
       "<div>\n",
       "<style scoped>\n",
       "    .dataframe tbody tr th:only-of-type {\n",
       "        vertical-align: middle;\n",
       "    }\n",
       "\n",
       "    .dataframe tbody tr th {\n",
       "        vertical-align: top;\n",
       "    }\n",
       "\n",
       "    .dataframe thead th {\n",
       "        text-align: right;\n",
       "    }\n",
       "</style>\n",
       "<table border=\"1\" class=\"dataframe\">\n",
       "  <thead>\n",
       "    <tr style=\"text-align: right;\">\n",
       "      <th></th>\n",
       "      <th>userId</th>\n",
       "      <th>movieId</th>\n",
       "      <th>tag</th>\n",
       "      <th>in netflix queue</th>\n",
       "      <th>atmospheric</th>\n",
       "      <th>thought-provoking</th>\n",
       "      <th>surreal</th>\n",
       "      <th>superhero</th>\n",
       "      <th>funny</th>\n",
       "      <th>disney</th>\n",
       "      <th>...</th>\n",
       "      <th>satire</th>\n",
       "      <th>comic book</th>\n",
       "      <th>psychological</th>\n",
       "      <th>animation</th>\n",
       "      <th>ghosts</th>\n",
       "      <th>boxing</th>\n",
       "      <th>adolescence</th>\n",
       "      <th>imdb top 250</th>\n",
       "      <th>adultery</th>\n",
       "      <th>bittersweet</th>\n",
       "    </tr>\n",
       "  </thead>\n",
       "  <tbody>\n",
       "    <tr>\n",
       "      <th>0</th>\n",
       "      <td>2</td>\n",
       "      <td>60756</td>\n",
       "      <td>funny</td>\n",
       "      <td>0</td>\n",
       "      <td>0</td>\n",
       "      <td>0</td>\n",
       "      <td>0</td>\n",
       "      <td>0</td>\n",
       "      <td>1</td>\n",
       "      <td>0</td>\n",
       "      <td>...</td>\n",
       "      <td>0</td>\n",
       "      <td>0</td>\n",
       "      <td>0</td>\n",
       "      <td>0</td>\n",
       "      <td>0</td>\n",
       "      <td>0</td>\n",
       "      <td>0</td>\n",
       "      <td>0</td>\n",
       "      <td>0</td>\n",
       "      <td>0</td>\n",
       "    </tr>\n",
       "    <tr>\n",
       "      <th>1</th>\n",
       "      <td>2</td>\n",
       "      <td>60756</td>\n",
       "      <td>highly quotable</td>\n",
       "      <td>0</td>\n",
       "      <td>0</td>\n",
       "      <td>0</td>\n",
       "      <td>0</td>\n",
       "      <td>0</td>\n",
       "      <td>0</td>\n",
       "      <td>0</td>\n",
       "      <td>...</td>\n",
       "      <td>0</td>\n",
       "      <td>0</td>\n",
       "      <td>0</td>\n",
       "      <td>0</td>\n",
       "      <td>0</td>\n",
       "      <td>0</td>\n",
       "      <td>0</td>\n",
       "      <td>0</td>\n",
       "      <td>0</td>\n",
       "      <td>0</td>\n",
       "    </tr>\n",
       "    <tr>\n",
       "      <th>2</th>\n",
       "      <td>2</td>\n",
       "      <td>60756</td>\n",
       "      <td>will ferrell</td>\n",
       "      <td>0</td>\n",
       "      <td>0</td>\n",
       "      <td>0</td>\n",
       "      <td>0</td>\n",
       "      <td>0</td>\n",
       "      <td>0</td>\n",
       "      <td>0</td>\n",
       "      <td>...</td>\n",
       "      <td>0</td>\n",
       "      <td>0</td>\n",
       "      <td>0</td>\n",
       "      <td>0</td>\n",
       "      <td>0</td>\n",
       "      <td>0</td>\n",
       "      <td>0</td>\n",
       "      <td>0</td>\n",
       "      <td>0</td>\n",
       "      <td>0</td>\n",
       "    </tr>\n",
       "    <tr>\n",
       "      <th>3</th>\n",
       "      <td>2</td>\n",
       "      <td>89774</td>\n",
       "      <td>boxing story</td>\n",
       "      <td>0</td>\n",
       "      <td>0</td>\n",
       "      <td>0</td>\n",
       "      <td>0</td>\n",
       "      <td>0</td>\n",
       "      <td>0</td>\n",
       "      <td>0</td>\n",
       "      <td>...</td>\n",
       "      <td>0</td>\n",
       "      <td>0</td>\n",
       "      <td>0</td>\n",
       "      <td>0</td>\n",
       "      <td>0</td>\n",
       "      <td>0</td>\n",
       "      <td>0</td>\n",
       "      <td>0</td>\n",
       "      <td>0</td>\n",
       "      <td>0</td>\n",
       "    </tr>\n",
       "    <tr>\n",
       "      <th>4</th>\n",
       "      <td>2</td>\n",
       "      <td>89774</td>\n",
       "      <td>mma</td>\n",
       "      <td>0</td>\n",
       "      <td>0</td>\n",
       "      <td>0</td>\n",
       "      <td>0</td>\n",
       "      <td>0</td>\n",
       "      <td>0</td>\n",
       "      <td>0</td>\n",
       "      <td>...</td>\n",
       "      <td>0</td>\n",
       "      <td>0</td>\n",
       "      <td>0</td>\n",
       "      <td>0</td>\n",
       "      <td>0</td>\n",
       "      <td>0</td>\n",
       "      <td>0</td>\n",
       "      <td>0</td>\n",
       "      <td>0</td>\n",
       "      <td>0</td>\n",
       "    </tr>\n",
       "  </tbody>\n",
       "</table>\n",
       "<p>5 rows × 54 columns</p>\n",
       "</div>"
      ],
      "text/plain": [
       "   userId  movieId              tag  in netflix queue  atmospheric  \\\n",
       "0       2    60756            funny                 0            0   \n",
       "1       2    60756  highly quotable                 0            0   \n",
       "2       2    60756     will ferrell                 0            0   \n",
       "3       2    89774     boxing story                 0            0   \n",
       "4       2    89774              mma                 0            0   \n",
       "\n",
       "   thought-provoking  surreal  superhero  funny  disney  ...  satire  \\\n",
       "0                  0        0          0      1       0  ...       0   \n",
       "1                  0        0          0      0       0  ...       0   \n",
       "2                  0        0          0      0       0  ...       0   \n",
       "3                  0        0          0      0       0  ...       0   \n",
       "4                  0        0          0      0       0  ...       0   \n",
       "\n",
       "   comic book  psychological  animation  ghosts  boxing  adolescence  \\\n",
       "0           0              0          0       0       0            0   \n",
       "1           0              0          0       0       0            0   \n",
       "2           0              0          0       0       0            0   \n",
       "3           0              0          0       0       0            0   \n",
       "4           0              0          0       0       0            0   \n",
       "\n",
       "   imdb top 250  adultery  bittersweet  \n",
       "0             0         0            0  \n",
       "1             0         0            0  \n",
       "2             0         0            0  \n",
       "3             0         0            0  \n",
       "4             0         0            0  \n",
       "\n",
       "[5 rows x 54 columns]"
      ]
     },
     "execution_count": 102,
     "metadata": {},
     "output_type": "execute_result"
    }
   ],
   "source": [
    "dftags.head()"
   ]
  },
  {
   "cell_type": "code",
   "execution_count": 103,
   "metadata": {},
   "outputs": [
    {
     "data": {
      "text/html": [
       "<div>\n",
       "<style scoped>\n",
       "    .dataframe tbody tr th:only-of-type {\n",
       "        vertical-align: middle;\n",
       "    }\n",
       "\n",
       "    .dataframe tbody tr th {\n",
       "        vertical-align: top;\n",
       "    }\n",
       "\n",
       "    .dataframe thead th {\n",
       "        text-align: right;\n",
       "    }\n",
       "</style>\n",
       "<table border=\"1\" class=\"dataframe\">\n",
       "  <thead>\n",
       "    <tr style=\"text-align: right;\">\n",
       "      <th></th>\n",
       "      <th>movieId</th>\n",
       "      <th>in netflix queue</th>\n",
       "      <th>atmospheric</th>\n",
       "      <th>thought-provoking</th>\n",
       "      <th>surreal</th>\n",
       "      <th>superhero</th>\n",
       "      <th>funny</th>\n",
       "      <th>disney</th>\n",
       "      <th>sci-fi</th>\n",
       "      <th>quirky</th>\n",
       "      <th>...</th>\n",
       "      <th>satire</th>\n",
       "      <th>comic book</th>\n",
       "      <th>psychological</th>\n",
       "      <th>animation</th>\n",
       "      <th>ghosts</th>\n",
       "      <th>boxing</th>\n",
       "      <th>adolescence</th>\n",
       "      <th>imdb top 250</th>\n",
       "      <th>adultery</th>\n",
       "      <th>bittersweet</th>\n",
       "    </tr>\n",
       "  </thead>\n",
       "  <tbody>\n",
       "    <tr>\n",
       "      <th>0</th>\n",
       "      <td>1</td>\n",
       "      <td>0</td>\n",
       "      <td>0</td>\n",
       "      <td>0</td>\n",
       "      <td>0</td>\n",
       "      <td>0</td>\n",
       "      <td>0</td>\n",
       "      <td>0</td>\n",
       "      <td>0</td>\n",
       "      <td>0</td>\n",
       "      <td>...</td>\n",
       "      <td>0</td>\n",
       "      <td>0</td>\n",
       "      <td>0</td>\n",
       "      <td>0</td>\n",
       "      <td>0</td>\n",
       "      <td>0</td>\n",
       "      <td>0</td>\n",
       "      <td>0</td>\n",
       "      <td>0</td>\n",
       "      <td>0</td>\n",
       "    </tr>\n",
       "    <tr>\n",
       "      <th>1</th>\n",
       "      <td>2</td>\n",
       "      <td>0</td>\n",
       "      <td>0</td>\n",
       "      <td>0</td>\n",
       "      <td>0</td>\n",
       "      <td>0</td>\n",
       "      <td>0</td>\n",
       "      <td>0</td>\n",
       "      <td>0</td>\n",
       "      <td>0</td>\n",
       "      <td>...</td>\n",
       "      <td>0</td>\n",
       "      <td>0</td>\n",
       "      <td>0</td>\n",
       "      <td>0</td>\n",
       "      <td>0</td>\n",
       "      <td>0</td>\n",
       "      <td>0</td>\n",
       "      <td>0</td>\n",
       "      <td>0</td>\n",
       "      <td>0</td>\n",
       "    </tr>\n",
       "    <tr>\n",
       "      <th>2</th>\n",
       "      <td>3</td>\n",
       "      <td>0</td>\n",
       "      <td>0</td>\n",
       "      <td>0</td>\n",
       "      <td>0</td>\n",
       "      <td>0</td>\n",
       "      <td>0</td>\n",
       "      <td>0</td>\n",
       "      <td>0</td>\n",
       "      <td>0</td>\n",
       "      <td>...</td>\n",
       "      <td>0</td>\n",
       "      <td>0</td>\n",
       "      <td>0</td>\n",
       "      <td>0</td>\n",
       "      <td>0</td>\n",
       "      <td>0</td>\n",
       "      <td>0</td>\n",
       "      <td>0</td>\n",
       "      <td>0</td>\n",
       "      <td>0</td>\n",
       "    </tr>\n",
       "    <tr>\n",
       "      <th>3</th>\n",
       "      <td>5</td>\n",
       "      <td>0</td>\n",
       "      <td>0</td>\n",
       "      <td>0</td>\n",
       "      <td>0</td>\n",
       "      <td>0</td>\n",
       "      <td>0</td>\n",
       "      <td>0</td>\n",
       "      <td>0</td>\n",
       "      <td>0</td>\n",
       "      <td>...</td>\n",
       "      <td>0</td>\n",
       "      <td>0</td>\n",
       "      <td>0</td>\n",
       "      <td>0</td>\n",
       "      <td>0</td>\n",
       "      <td>0</td>\n",
       "      <td>0</td>\n",
       "      <td>0</td>\n",
       "      <td>0</td>\n",
       "      <td>0</td>\n",
       "    </tr>\n",
       "    <tr>\n",
       "      <th>4</th>\n",
       "      <td>7</td>\n",
       "      <td>0</td>\n",
       "      <td>0</td>\n",
       "      <td>0</td>\n",
       "      <td>0</td>\n",
       "      <td>0</td>\n",
       "      <td>0</td>\n",
       "      <td>0</td>\n",
       "      <td>0</td>\n",
       "      <td>0</td>\n",
       "      <td>...</td>\n",
       "      <td>0</td>\n",
       "      <td>0</td>\n",
       "      <td>0</td>\n",
       "      <td>0</td>\n",
       "      <td>0</td>\n",
       "      <td>0</td>\n",
       "      <td>0</td>\n",
       "      <td>0</td>\n",
       "      <td>0</td>\n",
       "      <td>0</td>\n",
       "    </tr>\n",
       "  </tbody>\n",
       "</table>\n",
       "<p>5 rows × 52 columns</p>\n",
       "</div>"
      ],
      "text/plain": [
       "   movieId  in netflix queue  atmospheric  thought-provoking  surreal  \\\n",
       "0        1                 0            0                  0        0   \n",
       "1        2                 0            0                  0        0   \n",
       "2        3                 0            0                  0        0   \n",
       "3        5                 0            0                  0        0   \n",
       "4        7                 0            0                  0        0   \n",
       "\n",
       "   superhero  funny  disney  sci-fi  quirky  ...  satire  comic book  \\\n",
       "0          0      0       0       0       0  ...       0           0   \n",
       "1          0      0       0       0       0  ...       0           0   \n",
       "2          0      0       0       0       0  ...       0           0   \n",
       "3          0      0       0       0       0  ...       0           0   \n",
       "4          0      0       0       0       0  ...       0           0   \n",
       "\n",
       "   psychological  animation  ghosts  boxing  adolescence  imdb top 250  \\\n",
       "0              0          0       0       0            0             0   \n",
       "1              0          0       0       0            0             0   \n",
       "2              0          0       0       0            0             0   \n",
       "3              0          0       0       0            0             0   \n",
       "4              0          0       0       0            0             0   \n",
       "\n",
       "   adultery  bittersweet  \n",
       "0         0            0  \n",
       "1         0            0  \n",
       "2         0            0  \n",
       "3         0            0  \n",
       "4         0            0  \n",
       "\n",
       "[5 rows x 52 columns]"
      ]
     },
     "execution_count": 103,
     "metadata": {},
     "output_type": "execute_result"
    }
   ],
   "source": [
    "## Then we could also do a group by movieId, so we have all the tags for a specific movie\n",
    "tagsbymovie = dftags.drop('userId', axis=1).groupby('movieId').agg(lambda x: sum(x)).reset_index()\n",
    "tagsbymovie.head()"
   ]
  },
  {
   "cell_type": "code",
   "execution_count": 104,
   "metadata": {},
   "outputs": [
    {
     "data": {
      "text/html": [
       "<div>\n",
       "<style scoped>\n",
       "    .dataframe tbody tr th:only-of-type {\n",
       "        vertical-align: middle;\n",
       "    }\n",
       "\n",
       "    .dataframe tbody tr th {\n",
       "        vertical-align: top;\n",
       "    }\n",
       "\n",
       "    .dataframe thead th {\n",
       "        text-align: right;\n",
       "    }\n",
       "</style>\n",
       "<table border=\"1\" class=\"dataframe\">\n",
       "  <thead>\n",
       "    <tr style=\"text-align: right;\">\n",
       "      <th></th>\n",
       "      <th>movieId</th>\n",
       "      <th>title</th>\n",
       "      <th>year</th>\n",
       "      <th>Action</th>\n",
       "      <th>Adventure</th>\n",
       "      <th>Animation</th>\n",
       "      <th>Children</th>\n",
       "      <th>Comedy</th>\n",
       "      <th>Crime</th>\n",
       "      <th>Documentary</th>\n",
       "      <th>...</th>\n",
       "      <th>satire</th>\n",
       "      <th>comic book</th>\n",
       "      <th>psychological</th>\n",
       "      <th>animation</th>\n",
       "      <th>ghosts</th>\n",
       "      <th>boxing</th>\n",
       "      <th>adolescence</th>\n",
       "      <th>imdb top 250</th>\n",
       "      <th>adultery</th>\n",
       "      <th>bittersweet</th>\n",
       "    </tr>\n",
       "  </thead>\n",
       "  <tbody>\n",
       "    <tr>\n",
       "      <th>0</th>\n",
       "      <td>1</td>\n",
       "      <td>Toy Story</td>\n",
       "      <td>1995</td>\n",
       "      <td>0</td>\n",
       "      <td>1</td>\n",
       "      <td>1</td>\n",
       "      <td>1</td>\n",
       "      <td>1</td>\n",
       "      <td>0</td>\n",
       "      <td>0</td>\n",
       "      <td>...</td>\n",
       "      <td>0.0</td>\n",
       "      <td>0.0</td>\n",
       "      <td>0.0</td>\n",
       "      <td>0.0</td>\n",
       "      <td>0.0</td>\n",
       "      <td>0.0</td>\n",
       "      <td>0.0</td>\n",
       "      <td>0.0</td>\n",
       "      <td>0.0</td>\n",
       "      <td>0.0</td>\n",
       "    </tr>\n",
       "    <tr>\n",
       "      <th>1</th>\n",
       "      <td>2</td>\n",
       "      <td>Jumanji</td>\n",
       "      <td>1995</td>\n",
       "      <td>0</td>\n",
       "      <td>1</td>\n",
       "      <td>0</td>\n",
       "      <td>1</td>\n",
       "      <td>0</td>\n",
       "      <td>0</td>\n",
       "      <td>0</td>\n",
       "      <td>...</td>\n",
       "      <td>0.0</td>\n",
       "      <td>0.0</td>\n",
       "      <td>0.0</td>\n",
       "      <td>0.0</td>\n",
       "      <td>0.0</td>\n",
       "      <td>0.0</td>\n",
       "      <td>0.0</td>\n",
       "      <td>0.0</td>\n",
       "      <td>0.0</td>\n",
       "      <td>0.0</td>\n",
       "    </tr>\n",
       "    <tr>\n",
       "      <th>2</th>\n",
       "      <td>3</td>\n",
       "      <td>Grumpier Old Men</td>\n",
       "      <td>1995</td>\n",
       "      <td>0</td>\n",
       "      <td>0</td>\n",
       "      <td>0</td>\n",
       "      <td>0</td>\n",
       "      <td>1</td>\n",
       "      <td>0</td>\n",
       "      <td>0</td>\n",
       "      <td>...</td>\n",
       "      <td>0.0</td>\n",
       "      <td>0.0</td>\n",
       "      <td>0.0</td>\n",
       "      <td>0.0</td>\n",
       "      <td>0.0</td>\n",
       "      <td>0.0</td>\n",
       "      <td>0.0</td>\n",
       "      <td>0.0</td>\n",
       "      <td>0.0</td>\n",
       "      <td>0.0</td>\n",
       "    </tr>\n",
       "    <tr>\n",
       "      <th>3</th>\n",
       "      <td>4</td>\n",
       "      <td>Waiting to Exhale</td>\n",
       "      <td>1995</td>\n",
       "      <td>0</td>\n",
       "      <td>0</td>\n",
       "      <td>0</td>\n",
       "      <td>0</td>\n",
       "      <td>1</td>\n",
       "      <td>0</td>\n",
       "      <td>0</td>\n",
       "      <td>...</td>\n",
       "      <td>0.0</td>\n",
       "      <td>0.0</td>\n",
       "      <td>0.0</td>\n",
       "      <td>0.0</td>\n",
       "      <td>0.0</td>\n",
       "      <td>0.0</td>\n",
       "      <td>0.0</td>\n",
       "      <td>0.0</td>\n",
       "      <td>0.0</td>\n",
       "      <td>0.0</td>\n",
       "    </tr>\n",
       "    <tr>\n",
       "      <th>4</th>\n",
       "      <td>5</td>\n",
       "      <td>Father of the Bride Part II</td>\n",
       "      <td>1995</td>\n",
       "      <td>0</td>\n",
       "      <td>0</td>\n",
       "      <td>0</td>\n",
       "      <td>0</td>\n",
       "      <td>1</td>\n",
       "      <td>0</td>\n",
       "      <td>0</td>\n",
       "      <td>...</td>\n",
       "      <td>0.0</td>\n",
       "      <td>0.0</td>\n",
       "      <td>0.0</td>\n",
       "      <td>0.0</td>\n",
       "      <td>0.0</td>\n",
       "      <td>0.0</td>\n",
       "      <td>0.0</td>\n",
       "      <td>0.0</td>\n",
       "      <td>0.0</td>\n",
       "      <td>0.0</td>\n",
       "    </tr>\n",
       "  </tbody>\n",
       "</table>\n",
       "<p>5 rows × 72 columns</p>\n",
       "</div>"
      ],
      "text/plain": [
       "   movieId                         title  year  Action  Adventure  Animation  \\\n",
       "0        1                    Toy Story   1995       0          1          1   \n",
       "1        2                      Jumanji   1995       0          1          0   \n",
       "2        3             Grumpier Old Men   1995       0          0          0   \n",
       "3        4            Waiting to Exhale   1995       0          0          0   \n",
       "4        5  Father of the Bride Part II   1995       0          0          0   \n",
       "\n",
       "   Children  Comedy  Crime  Documentary  ...  satire  comic book  \\\n",
       "0         1       1      0            0  ...     0.0         0.0   \n",
       "1         1       0      0            0  ...     0.0         0.0   \n",
       "2         0       1      0            0  ...     0.0         0.0   \n",
       "3         0       1      0            0  ...     0.0         0.0   \n",
       "4         0       1      0            0  ...     0.0         0.0   \n",
       "\n",
       "   psychological  animation  ghosts  boxing  adolescence  imdb top 250  \\\n",
       "0            0.0        0.0     0.0     0.0          0.0           0.0   \n",
       "1            0.0        0.0     0.0     0.0          0.0           0.0   \n",
       "2            0.0        0.0     0.0     0.0          0.0           0.0   \n",
       "3            0.0        0.0     0.0     0.0          0.0           0.0   \n",
       "4            0.0        0.0     0.0     0.0          0.0           0.0   \n",
       "\n",
       "   adultery  bittersweet  \n",
       "0       0.0          0.0  \n",
       "1       0.0          0.0  \n",
       "2       0.0          0.0  \n",
       "3       0.0          0.0  \n",
       "4       0.0          0.0  \n",
       "\n",
       "[5 rows x 72 columns]"
      ]
     },
     "execution_count": 104,
     "metadata": {},
     "output_type": "execute_result"
    }
   ],
   "source": [
    "dfmovies = dfmovies.merge(tagsbymovie, how='left').fillna(0.0)\n",
    "dfmovies.head()"
   ]
  },
  {
   "cell_type": "markdown",
   "metadata": {},
   "source": [
    "Lets merge the ranking dt with our final movies/tags df:"
   ]
  },
  {
   "cell_type": "code",
   "execution_count": 105,
   "metadata": {},
   "outputs": [],
   "source": [
    "df = dfratings.set_index('movieId').join(dfmovies.set_index('movieId')).reset_index()"
   ]
  },
  {
   "cell_type": "code",
   "execution_count": 106,
   "metadata": {},
   "outputs": [
    {
     "data": {
      "text/html": [
       "<div>\n",
       "<style scoped>\n",
       "    .dataframe tbody tr th:only-of-type {\n",
       "        vertical-align: middle;\n",
       "    }\n",
       "\n",
       "    .dataframe tbody tr th {\n",
       "        vertical-align: top;\n",
       "    }\n",
       "\n",
       "    .dataframe thead th {\n",
       "        text-align: right;\n",
       "    }\n",
       "</style>\n",
       "<table border=\"1\" class=\"dataframe\">\n",
       "  <thead>\n",
       "    <tr style=\"text-align: right;\">\n",
       "      <th></th>\n",
       "      <th>movieId</th>\n",
       "      <th>userId</th>\n",
       "      <th>rating</th>\n",
       "      <th>dates</th>\n",
       "      <th>title</th>\n",
       "      <th>year</th>\n",
       "      <th>Action</th>\n",
       "      <th>Adventure</th>\n",
       "      <th>Animation</th>\n",
       "      <th>Children</th>\n",
       "      <th>...</th>\n",
       "      <th>satire</th>\n",
       "      <th>comic book</th>\n",
       "      <th>psychological</th>\n",
       "      <th>animation</th>\n",
       "      <th>ghosts</th>\n",
       "      <th>boxing</th>\n",
       "      <th>adolescence</th>\n",
       "      <th>imdb top 250</th>\n",
       "      <th>adultery</th>\n",
       "      <th>bittersweet</th>\n",
       "    </tr>\n",
       "  </thead>\n",
       "  <tbody>\n",
       "    <tr>\n",
       "      <th>0</th>\n",
       "      <td>1</td>\n",
       "      <td>1</td>\n",
       "      <td>4.0</td>\n",
       "      <td>2000-07-30 20:45:03</td>\n",
       "      <td>Toy Story</td>\n",
       "      <td>1995</td>\n",
       "      <td>0</td>\n",
       "      <td>1</td>\n",
       "      <td>1</td>\n",
       "      <td>1</td>\n",
       "      <td>...</td>\n",
       "      <td>0.0</td>\n",
       "      <td>0.0</td>\n",
       "      <td>0.0</td>\n",
       "      <td>0.0</td>\n",
       "      <td>0.0</td>\n",
       "      <td>0.0</td>\n",
       "      <td>0.0</td>\n",
       "      <td>0.0</td>\n",
       "      <td>0.0</td>\n",
       "      <td>0.0</td>\n",
       "    </tr>\n",
       "    <tr>\n",
       "      <th>1</th>\n",
       "      <td>1</td>\n",
       "      <td>5</td>\n",
       "      <td>4.0</td>\n",
       "      <td>1996-11-08 07:36:02</td>\n",
       "      <td>Toy Story</td>\n",
       "      <td>1995</td>\n",
       "      <td>0</td>\n",
       "      <td>1</td>\n",
       "      <td>1</td>\n",
       "      <td>1</td>\n",
       "      <td>...</td>\n",
       "      <td>0.0</td>\n",
       "      <td>0.0</td>\n",
       "      <td>0.0</td>\n",
       "      <td>0.0</td>\n",
       "      <td>0.0</td>\n",
       "      <td>0.0</td>\n",
       "      <td>0.0</td>\n",
       "      <td>0.0</td>\n",
       "      <td>0.0</td>\n",
       "      <td>0.0</td>\n",
       "    </tr>\n",
       "    <tr>\n",
       "      <th>2</th>\n",
       "      <td>1</td>\n",
       "      <td>7</td>\n",
       "      <td>4.5</td>\n",
       "      <td>2005-01-25 07:52:26</td>\n",
       "      <td>Toy Story</td>\n",
       "      <td>1995</td>\n",
       "      <td>0</td>\n",
       "      <td>1</td>\n",
       "      <td>1</td>\n",
       "      <td>1</td>\n",
       "      <td>...</td>\n",
       "      <td>0.0</td>\n",
       "      <td>0.0</td>\n",
       "      <td>0.0</td>\n",
       "      <td>0.0</td>\n",
       "      <td>0.0</td>\n",
       "      <td>0.0</td>\n",
       "      <td>0.0</td>\n",
       "      <td>0.0</td>\n",
       "      <td>0.0</td>\n",
       "      <td>0.0</td>\n",
       "    </tr>\n",
       "    <tr>\n",
       "      <th>3</th>\n",
       "      <td>1</td>\n",
       "      <td>15</td>\n",
       "      <td>2.5</td>\n",
       "      <td>2017-11-13 13:59:30</td>\n",
       "      <td>Toy Story</td>\n",
       "      <td>1995</td>\n",
       "      <td>0</td>\n",
       "      <td>1</td>\n",
       "      <td>1</td>\n",
       "      <td>1</td>\n",
       "      <td>...</td>\n",
       "      <td>0.0</td>\n",
       "      <td>0.0</td>\n",
       "      <td>0.0</td>\n",
       "      <td>0.0</td>\n",
       "      <td>0.0</td>\n",
       "      <td>0.0</td>\n",
       "      <td>0.0</td>\n",
       "      <td>0.0</td>\n",
       "      <td>0.0</td>\n",
       "      <td>0.0</td>\n",
       "    </tr>\n",
       "    <tr>\n",
       "      <th>4</th>\n",
       "      <td>1</td>\n",
       "      <td>17</td>\n",
       "      <td>4.5</td>\n",
       "      <td>2011-05-18 07:28:03</td>\n",
       "      <td>Toy Story</td>\n",
       "      <td>1995</td>\n",
       "      <td>0</td>\n",
       "      <td>1</td>\n",
       "      <td>1</td>\n",
       "      <td>1</td>\n",
       "      <td>...</td>\n",
       "      <td>0.0</td>\n",
       "      <td>0.0</td>\n",
       "      <td>0.0</td>\n",
       "      <td>0.0</td>\n",
       "      <td>0.0</td>\n",
       "      <td>0.0</td>\n",
       "      <td>0.0</td>\n",
       "      <td>0.0</td>\n",
       "      <td>0.0</td>\n",
       "      <td>0.0</td>\n",
       "    </tr>\n",
       "  </tbody>\n",
       "</table>\n",
       "<p>5 rows × 75 columns</p>\n",
       "</div>"
      ],
      "text/plain": [
       "   movieId  userId  rating               dates       title  year  Action  \\\n",
       "0        1       1     4.0 2000-07-30 20:45:03  Toy Story   1995       0   \n",
       "1        1       5     4.0 1996-11-08 07:36:02  Toy Story   1995       0   \n",
       "2        1       7     4.5 2005-01-25 07:52:26  Toy Story   1995       0   \n",
       "3        1      15     2.5 2017-11-13 13:59:30  Toy Story   1995       0   \n",
       "4        1      17     4.5 2011-05-18 07:28:03  Toy Story   1995       0   \n",
       "\n",
       "   Adventure  Animation  Children  ...  satire  comic book  psychological  \\\n",
       "0          1          1         1  ...     0.0         0.0            0.0   \n",
       "1          1          1         1  ...     0.0         0.0            0.0   \n",
       "2          1          1         1  ...     0.0         0.0            0.0   \n",
       "3          1          1         1  ...     0.0         0.0            0.0   \n",
       "4          1          1         1  ...     0.0         0.0            0.0   \n",
       "\n",
       "   animation  ghosts  boxing  adolescence  imdb top 250  adultery  bittersweet  \n",
       "0        0.0     0.0     0.0          0.0           0.0       0.0          0.0  \n",
       "1        0.0     0.0     0.0          0.0           0.0       0.0          0.0  \n",
       "2        0.0     0.0     0.0          0.0           0.0       0.0          0.0  \n",
       "3        0.0     0.0     0.0          0.0           0.0       0.0          0.0  \n",
       "4        0.0     0.0     0.0          0.0           0.0       0.0          0.0  \n",
       "\n",
       "[5 rows x 75 columns]"
      ]
     },
     "execution_count": 106,
     "metadata": {},
     "output_type": "execute_result"
    }
   ],
   "source": [
    "df.head()"
   ]
  },
  {
   "cell_type": "markdown",
   "metadata": {},
   "source": [
    "## Some informations for our database"
   ]
  },
  {
   "cell_type": "markdown",
   "metadata": {},
   "source": [
    "- the number of films"
   ]
  },
  {
   "cell_type": "code",
   "execution_count": 107,
   "metadata": {},
   "outputs": [
    {
     "data": {
      "text/plain": [
       "9724"
      ]
     },
     "execution_count": 107,
     "metadata": {},
     "output_type": "execute_result"
    }
   ],
   "source": [
    "df.groupby('movieId').size().shape[0]"
   ]
  },
  {
   "cell_type": "markdown",
   "metadata": {},
   "source": [
    "- the number of users"
   ]
  },
  {
   "cell_type": "code",
   "execution_count": 108,
   "metadata": {},
   "outputs": [
    {
     "data": {
      "text/plain": [
       "610"
      ]
     },
     "execution_count": 108,
     "metadata": {},
     "output_type": "execute_result"
    }
   ],
   "source": [
    "df.groupby('userId').size().shape[0]"
   ]
  },
  {
   "cell_type": "markdown",
   "metadata": {},
   "source": [
    "- the number of ratings for each film sorted in descending order"
   ]
  },
  {
   "cell_type": "code",
   "execution_count": 109,
   "metadata": {},
   "outputs": [
    {
     "data": {
      "text/html": [
       "<div>\n",
       "<style scoped>\n",
       "    .dataframe tbody tr th:only-of-type {\n",
       "        vertical-align: middle;\n",
       "    }\n",
       "\n",
       "    .dataframe tbody tr th {\n",
       "        vertical-align: top;\n",
       "    }\n",
       "\n",
       "    .dataframe thead th {\n",
       "        text-align: right;\n",
       "    }\n",
       "</style>\n",
       "<table border=\"1\" class=\"dataframe\">\n",
       "  <thead>\n",
       "    <tr style=\"text-align: right;\">\n",
       "      <th></th>\n",
       "      <th>nb_ratings</th>\n",
       "    </tr>\n",
       "    <tr>\n",
       "      <th>movieId</th>\n",
       "      <th></th>\n",
       "    </tr>\n",
       "  </thead>\n",
       "  <tbody>\n",
       "    <tr>\n",
       "      <th>356</th>\n",
       "      <td>329</td>\n",
       "    </tr>\n",
       "    <tr>\n",
       "      <th>318</th>\n",
       "      <td>317</td>\n",
       "    </tr>\n",
       "    <tr>\n",
       "      <th>296</th>\n",
       "      <td>307</td>\n",
       "    </tr>\n",
       "    <tr>\n",
       "      <th>593</th>\n",
       "      <td>279</td>\n",
       "    </tr>\n",
       "    <tr>\n",
       "      <th>2571</th>\n",
       "      <td>278</td>\n",
       "    </tr>\n",
       "    <tr>\n",
       "      <th>...</th>\n",
       "      <td>...</td>\n",
       "    </tr>\n",
       "    <tr>\n",
       "      <th>4093</th>\n",
       "      <td>1</td>\n",
       "    </tr>\n",
       "    <tr>\n",
       "      <th>4089</th>\n",
       "      <td>1</td>\n",
       "    </tr>\n",
       "    <tr>\n",
       "      <th>58351</th>\n",
       "      <td>1</td>\n",
       "    </tr>\n",
       "    <tr>\n",
       "      <th>4083</th>\n",
       "      <td>1</td>\n",
       "    </tr>\n",
       "    <tr>\n",
       "      <th>193609</th>\n",
       "      <td>1</td>\n",
       "    </tr>\n",
       "  </tbody>\n",
       "</table>\n",
       "<p>9724 rows × 1 columns</p>\n",
       "</div>"
      ],
      "text/plain": [
       "         nb_ratings\n",
       "movieId            \n",
       "356             329\n",
       "318             317\n",
       "296             307\n",
       "593             279\n",
       "2571            278\n",
       "...             ...\n",
       "4093              1\n",
       "4089              1\n",
       "58351             1\n",
       "4083              1\n",
       "193609            1\n",
       "\n",
       "[9724 rows x 1 columns]"
      ]
     },
     "execution_count": 109,
     "metadata": {},
     "output_type": "execute_result"
    }
   ],
   "source": [
    "df.groupby('movieId').size().to_frame('nb_ratings').sort_values(by=['nb_ratings'],ascending=False)"
   ]
  },
  {
   "cell_type": "markdown",
   "metadata": {},
   "source": [
    "Distribution of number of ratings by movies"
   ]
  },
  {
   "cell_type": "code",
   "execution_count": 110,
   "metadata": {},
   "outputs": [
    {
     "data": {
      "text/html": [
       "<div>\n",
       "<style scoped>\n",
       "    .dataframe tbody tr th:only-of-type {\n",
       "        vertical-align: middle;\n",
       "    }\n",
       "\n",
       "    .dataframe tbody tr th {\n",
       "        vertical-align: top;\n",
       "    }\n",
       "\n",
       "    .dataframe thead th {\n",
       "        text-align: right;\n",
       "    }\n",
       "</style>\n",
       "<table border=\"1\" class=\"dataframe\">\n",
       "  <thead>\n",
       "    <tr style=\"text-align: right;\">\n",
       "      <th></th>\n",
       "      <th>nb_ratings</th>\n",
       "    </tr>\n",
       "  </thead>\n",
       "  <tbody>\n",
       "    <tr>\n",
       "      <th>count</th>\n",
       "      <td>9724.000000</td>\n",
       "    </tr>\n",
       "    <tr>\n",
       "      <th>mean</th>\n",
       "      <td>10.369807</td>\n",
       "    </tr>\n",
       "    <tr>\n",
       "      <th>std</th>\n",
       "      <td>22.401005</td>\n",
       "    </tr>\n",
       "    <tr>\n",
       "      <th>min</th>\n",
       "      <td>1.000000</td>\n",
       "    </tr>\n",
       "    <tr>\n",
       "      <th>25%</th>\n",
       "      <td>1.000000</td>\n",
       "    </tr>\n",
       "    <tr>\n",
       "      <th>50%</th>\n",
       "      <td>3.000000</td>\n",
       "    </tr>\n",
       "    <tr>\n",
       "      <th>75%</th>\n",
       "      <td>9.000000</td>\n",
       "    </tr>\n",
       "    <tr>\n",
       "      <th>max</th>\n",
       "      <td>329.000000</td>\n",
       "    </tr>\n",
       "  </tbody>\n",
       "</table>\n",
       "</div>"
      ],
      "text/plain": [
       "        nb_ratings\n",
       "count  9724.000000\n",
       "mean     10.369807\n",
       "std      22.401005\n",
       "min       1.000000\n",
       "25%       1.000000\n",
       "50%       3.000000\n",
       "75%       9.000000\n",
       "max     329.000000"
      ]
     },
     "execution_count": 110,
     "metadata": {},
     "output_type": "execute_result"
    }
   ],
   "source": [
    "df.groupby('movieId').size().to_frame('nb_ratings').sort_values(by=['nb_ratings'],ascending=False).describe()"
   ]
  },
  {
   "cell_type": "markdown",
   "metadata": {},
   "source": [
    "- the number of ratings of each user sorted in descending order"
   ]
  },
  {
   "cell_type": "code",
   "execution_count": 111,
   "metadata": {},
   "outputs": [
    {
     "data": {
      "text/html": [
       "<div>\n",
       "<style scoped>\n",
       "    .dataframe tbody tr th:only-of-type {\n",
       "        vertical-align: middle;\n",
       "    }\n",
       "\n",
       "    .dataframe tbody tr th {\n",
       "        vertical-align: top;\n",
       "    }\n",
       "\n",
       "    .dataframe thead th {\n",
       "        text-align: right;\n",
       "    }\n",
       "</style>\n",
       "<table border=\"1\" class=\"dataframe\">\n",
       "  <thead>\n",
       "    <tr style=\"text-align: right;\">\n",
       "      <th></th>\n",
       "      <th>nb_ratings</th>\n",
       "    </tr>\n",
       "    <tr>\n",
       "      <th>userId</th>\n",
       "      <th></th>\n",
       "    </tr>\n",
       "  </thead>\n",
       "  <tbody>\n",
       "    <tr>\n",
       "      <th>414</th>\n",
       "      <td>2698</td>\n",
       "    </tr>\n",
       "    <tr>\n",
       "      <th>599</th>\n",
       "      <td>2478</td>\n",
       "    </tr>\n",
       "    <tr>\n",
       "      <th>474</th>\n",
       "      <td>2108</td>\n",
       "    </tr>\n",
       "    <tr>\n",
       "      <th>448</th>\n",
       "      <td>1864</td>\n",
       "    </tr>\n",
       "    <tr>\n",
       "      <th>274</th>\n",
       "      <td>1346</td>\n",
       "    </tr>\n",
       "    <tr>\n",
       "      <th>...</th>\n",
       "      <td>...</td>\n",
       "    </tr>\n",
       "    <tr>\n",
       "      <th>442</th>\n",
       "      <td>20</td>\n",
       "    </tr>\n",
       "    <tr>\n",
       "      <th>569</th>\n",
       "      <td>20</td>\n",
       "    </tr>\n",
       "    <tr>\n",
       "      <th>320</th>\n",
       "      <td>20</td>\n",
       "    </tr>\n",
       "    <tr>\n",
       "      <th>576</th>\n",
       "      <td>20</td>\n",
       "    </tr>\n",
       "    <tr>\n",
       "      <th>53</th>\n",
       "      <td>20</td>\n",
       "    </tr>\n",
       "  </tbody>\n",
       "</table>\n",
       "<p>610 rows × 1 columns</p>\n",
       "</div>"
      ],
      "text/plain": [
       "        nb_ratings\n",
       "userId            \n",
       "414           2698\n",
       "599           2478\n",
       "474           2108\n",
       "448           1864\n",
       "274           1346\n",
       "...            ...\n",
       "442             20\n",
       "569             20\n",
       "320             20\n",
       "576             20\n",
       "53              20\n",
       "\n",
       "[610 rows x 1 columns]"
      ]
     },
     "execution_count": 111,
     "metadata": {},
     "output_type": "execute_result"
    }
   ],
   "source": [
    "df.groupby('userId').size().to_frame('nb_ratings').sort_values(by=['nb_ratings'],ascending=False)"
   ]
  },
  {
   "cell_type": "markdown",
   "metadata": {},
   "source": [
    "- Distribution of ratings by users"
   ]
  },
  {
   "cell_type": "code",
   "execution_count": 112,
   "metadata": {},
   "outputs": [
    {
     "data": {
      "text/html": [
       "<div>\n",
       "<style scoped>\n",
       "    .dataframe tbody tr th:only-of-type {\n",
       "        vertical-align: middle;\n",
       "    }\n",
       "\n",
       "    .dataframe tbody tr th {\n",
       "        vertical-align: top;\n",
       "    }\n",
       "\n",
       "    .dataframe thead th {\n",
       "        text-align: right;\n",
       "    }\n",
       "</style>\n",
       "<table border=\"1\" class=\"dataframe\">\n",
       "  <thead>\n",
       "    <tr style=\"text-align: right;\">\n",
       "      <th></th>\n",
       "      <th>nb_ratings</th>\n",
       "    </tr>\n",
       "  </thead>\n",
       "  <tbody>\n",
       "    <tr>\n",
       "      <th>count</th>\n",
       "      <td>610.000000</td>\n",
       "    </tr>\n",
       "    <tr>\n",
       "      <th>mean</th>\n",
       "      <td>165.304918</td>\n",
       "    </tr>\n",
       "    <tr>\n",
       "      <th>std</th>\n",
       "      <td>269.480584</td>\n",
       "    </tr>\n",
       "    <tr>\n",
       "      <th>min</th>\n",
       "      <td>20.000000</td>\n",
       "    </tr>\n",
       "    <tr>\n",
       "      <th>25%</th>\n",
       "      <td>35.000000</td>\n",
       "    </tr>\n",
       "    <tr>\n",
       "      <th>50%</th>\n",
       "      <td>70.500000</td>\n",
       "    </tr>\n",
       "    <tr>\n",
       "      <th>75%</th>\n",
       "      <td>168.000000</td>\n",
       "    </tr>\n",
       "    <tr>\n",
       "      <th>max</th>\n",
       "      <td>2698.000000</td>\n",
       "    </tr>\n",
       "  </tbody>\n",
       "</table>\n",
       "</div>"
      ],
      "text/plain": [
       "        nb_ratings\n",
       "count   610.000000\n",
       "mean    165.304918\n",
       "std     269.480584\n",
       "min      20.000000\n",
       "25%      35.000000\n",
       "50%      70.500000\n",
       "75%     168.000000\n",
       "max    2698.000000"
      ]
     },
     "execution_count": 112,
     "metadata": {},
     "output_type": "execute_result"
    }
   ],
   "source": [
    "df.groupby('userId').size().to_frame('nb_ratings').sort_values(by=['nb_ratings'],ascending=False).describe()"
   ]
  },
  {
   "cell_type": "markdown",
   "metadata": {},
   "source": [
    "## Non personalized recommendations \n",
    "- Optionel (Movies seen together) \n",
    "- Top 10 Movies (Semaine, mois, )\n",
    "- Top 10 Movies per category (Semaine, mois, )\n",
    "- Top 10 most popular (Semaine, mois, )\n",
    "- Top 10 categories (Semaine, mois, )\n",
    "- Top 10 tags (Semaine, mois, )"
   ]
  },
  {
   "cell_type": "markdown",
   "metadata": {},
   "source": [
    "### Dataframe manipulation functions"
   ]
  },
  {
   "cell_type": "markdown",
   "metadata": {},
   "source": [
    "First, let's define a function that will consider only the data in a specific\n",
    "period:"
   ]
  },
  {
   "cell_type": "code",
   "execution_count": 113,
   "metadata": {},
   "outputs": [],
   "source": [
    "def dateperiod(df, days_past, end_date=datetime(2018, 9, 24)):    \n",
    "    mask = ((df['dates'] > (end_date - timedelta(days=days_past))) & (df['dates'] <= end_date ))\n",
    "    return df.loc[mask]"
   ]
  },
  {
   "cell_type": "code",
   "execution_count": 114,
   "metadata": {},
   "outputs": [
    {
     "data": {
      "text/html": [
       "<div>\n",
       "<style scoped>\n",
       "    .dataframe tbody tr th:only-of-type {\n",
       "        vertical-align: middle;\n",
       "    }\n",
       "\n",
       "    .dataframe tbody tr th {\n",
       "        vertical-align: top;\n",
       "    }\n",
       "\n",
       "    .dataframe thead th {\n",
       "        text-align: right;\n",
       "    }\n",
       "</style>\n",
       "<table border=\"1\" class=\"dataframe\">\n",
       "  <thead>\n",
       "    <tr style=\"text-align: right;\">\n",
       "      <th></th>\n",
       "      <th>movieId</th>\n",
       "      <th>userId</th>\n",
       "      <th>rating</th>\n",
       "      <th>dates</th>\n",
       "      <th>title</th>\n",
       "      <th>year</th>\n",
       "      <th>Action</th>\n",
       "      <th>Adventure</th>\n",
       "      <th>Animation</th>\n",
       "      <th>Children</th>\n",
       "      <th>...</th>\n",
       "      <th>satire</th>\n",
       "      <th>comic book</th>\n",
       "      <th>psychological</th>\n",
       "      <th>animation</th>\n",
       "      <th>ghosts</th>\n",
       "      <th>boxing</th>\n",
       "      <th>adolescence</th>\n",
       "      <th>imdb top 250</th>\n",
       "      <th>adultery</th>\n",
       "      <th>bittersweet</th>\n",
       "    </tr>\n",
       "  </thead>\n",
       "  <tbody>\n",
       "    <tr>\n",
       "      <th>100779</th>\n",
       "      <td>187031</td>\n",
       "      <td>514</td>\n",
       "      <td>2.5</td>\n",
       "      <td>2018-09-23 05:55:27</td>\n",
       "      <td>Jurassic World: Fallen Kingdom</td>\n",
       "      <td>2018</td>\n",
       "      <td>1</td>\n",
       "      <td>1</td>\n",
       "      <td>0</td>\n",
       "      <td>0</td>\n",
       "      <td>...</td>\n",
       "      <td>0.0</td>\n",
       "      <td>0.0</td>\n",
       "      <td>0.0</td>\n",
       "      <td>0.0</td>\n",
       "      <td>0.0</td>\n",
       "      <td>0.0</td>\n",
       "      <td>0.0</td>\n",
       "      <td>0.0</td>\n",
       "      <td>0.0</td>\n",
       "      <td>0.0</td>\n",
       "    </tr>\n",
       "    <tr>\n",
       "      <th>100800</th>\n",
       "      <td>187595</td>\n",
       "      <td>514</td>\n",
       "      <td>3.0</td>\n",
       "      <td>2018-09-23 05:55:46</td>\n",
       "      <td>Solo: A Star Wars Story</td>\n",
       "      <td>2018</td>\n",
       "      <td>1</td>\n",
       "      <td>1</td>\n",
       "      <td>0</td>\n",
       "      <td>1</td>\n",
       "      <td>...</td>\n",
       "      <td>0.0</td>\n",
       "      <td>0.0</td>\n",
       "      <td>0.0</td>\n",
       "      <td>0.0</td>\n",
       "      <td>0.0</td>\n",
       "      <td>0.0</td>\n",
       "      <td>0.0</td>\n",
       "      <td>0.0</td>\n",
       "      <td>0.0</td>\n",
       "      <td>0.0</td>\n",
       "    </tr>\n",
       "  </tbody>\n",
       "</table>\n",
       "<p>2 rows × 75 columns</p>\n",
       "</div>"
      ],
      "text/plain": [
       "        movieId  userId  rating               dates  \\\n",
       "100779   187031     514     2.5 2018-09-23 05:55:27   \n",
       "100800   187595     514     3.0 2018-09-23 05:55:46   \n",
       "\n",
       "                                  title  year  Action  Adventure  Animation  \\\n",
       "100779  Jurassic World: Fallen Kingdom   2018       1          1          0   \n",
       "100800         Solo: A Star Wars Story   2018       1          1          0   \n",
       "\n",
       "        Children  ...  satire  comic book  psychological  animation  ghosts  \\\n",
       "100779         0  ...     0.0         0.0            0.0        0.0     0.0   \n",
       "100800         1  ...     0.0         0.0            0.0        0.0     0.0   \n",
       "\n",
       "        boxing  adolescence  imdb top 250  adultery  bittersweet  \n",
       "100779     0.0          0.0           0.0       0.0          0.0  \n",
       "100800     0.0          0.0           0.0       0.0          0.0  \n",
       "\n",
       "[2 rows x 75 columns]"
      ]
     },
     "execution_count": 114,
     "metadata": {},
     "output_type": "execute_result"
    }
   ],
   "source": [
    "#Test\n",
    "dateperiod(df, days_past=1)"
   ]
  },
  {
   "cell_type": "markdown",
   "metadata": {},
   "source": [
    "Now let's create different function that will manipulate the main dataframe to get calculated values needed to the plot.\n",
    "This first function return the top N most popular movies by counting the number of rating"
   ]
  },
  {
   "cell_type": "code",
   "execution_count": 115,
   "metadata": {},
   "outputs": [],
   "source": [
    "def top_popular(df, top, days_past, categories_filter=0):\n",
    "    df_timestamp = dateperiod(df, days_past=days_past)\n",
    "    df_filtred = df_timestamp\n",
    "    if categories_filter!=0:\n",
    "        for i in categories_filter:\n",
    "            df_filtred = df_filtred[df_filtred[i]==1]\n",
    "    \n",
    "    dfTop10Popular = df_filtred.groupby(['movieId','title'])['rating'].agg('count').reset_index(name='nb_ratings').sort_values(by='nb_ratings', ascending=False).head(top)\n",
    "\n",
    "    \n",
    "    return dfTop10Popular"
   ]
  },
  {
   "cell_type": "code",
   "execution_count": 116,
   "metadata": {},
   "outputs": [
    {
     "data": {
      "text/html": [
       "<div>\n",
       "<style scoped>\n",
       "    .dataframe tbody tr th:only-of-type {\n",
       "        vertical-align: middle;\n",
       "    }\n",
       "\n",
       "    .dataframe tbody tr th {\n",
       "        vertical-align: top;\n",
       "    }\n",
       "\n",
       "    .dataframe thead th {\n",
       "        text-align: right;\n",
       "    }\n",
       "</style>\n",
       "<table border=\"1\" class=\"dataframe\">\n",
       "  <thead>\n",
       "    <tr style=\"text-align: right;\">\n",
       "      <th></th>\n",
       "      <th>movieId</th>\n",
       "      <th>title</th>\n",
       "      <th>nb_ratings</th>\n",
       "    </tr>\n",
       "  </thead>\n",
       "  <tbody>\n",
       "    <tr>\n",
       "      <th>43</th>\n",
       "      <td>356</td>\n",
       "      <td>Forrest Gump</td>\n",
       "      <td>24</td>\n",
       "    </tr>\n",
       "    <tr>\n",
       "      <th>447</th>\n",
       "      <td>4306</td>\n",
       "      <td>Shrek</td>\n",
       "      <td>20</td>\n",
       "    </tr>\n",
       "    <tr>\n",
       "      <th>681</th>\n",
       "      <td>8961</td>\n",
       "      <td>Incredibles, The</td>\n",
       "      <td>19</td>\n",
       "    </tr>\n",
       "    <tr>\n",
       "      <th>1262</th>\n",
       "      <td>122904</td>\n",
       "      <td>Deadpool</td>\n",
       "      <td>18</td>\n",
       "    </tr>\n",
       "    <tr>\n",
       "      <th>584</th>\n",
       "      <td>6539</td>\n",
       "      <td>Pirates of the Caribbean: The Curse of the Bla...</td>\n",
       "      <td>17</td>\n",
       "    </tr>\n",
       "  </tbody>\n",
       "</table>\n",
       "</div>"
      ],
      "text/plain": [
       "      movieId                                              title  nb_ratings\n",
       "43        356                                      Forrest Gump           24\n",
       "447      4306                                             Shrek           20\n",
       "681      8961                                  Incredibles, The           19\n",
       "1262   122904                                          Deadpool           18\n",
       "584      6539  Pirates of the Caribbean: The Curse of the Bla...          17"
      ]
     },
     "execution_count": 116,
     "metadata": {},
     "output_type": "execute_result"
    }
   ],
   "source": [
    "#Test\n",
    "top_popular(df, top = 5, days_past = 365, categories_filter=['Comedy'])"
   ]
  },
  {
   "cell_type": "markdown",
   "metadata": {},
   "source": [
    "Let's create a function that give the top N movies by rating and by category in the choosen duration "
   ]
  },
  {
   "cell_type": "code",
   "execution_count": 117,
   "metadata": {},
   "outputs": [],
   "source": [
    "def top_rating(df, top, days_past, categories_filter=0):\n",
    "    df_timestamp = dateperiod(df, days_past=days_past)\n",
    "    df_filtred = df_timestamp\n",
    "    if categories_filter!=0:\n",
    "        for i in categories_filter:\n",
    "            df_filtred = df_filtred[df_filtred[i]==1]\n",
    "            \n",
    "    df_rating_mean = df_filtred.groupby(['movieId','title'])['rating'].agg('mean').reset_index(name='rating_mean')\n",
    "    df_rating_count = df_filtred.groupby(['movieId',])['rating'].agg('count').reset_index(name='rating_count')\n",
    "    dfTop10movies = df_rating_mean.merge(df_rating_count, on='movieId', how='left')\n",
    "    filter_factor = round(max(dfTop10movies['rating_count'])/3)\n",
    "    dfTop10movies = dfTop10movies[dfTop10movies['rating_count']>filter_factor].sort_values(by = 'rating_mean',ascending = False).head(top)\n",
    "\n",
    "    return dfTop10movies"
   ]
  },
  {
   "cell_type": "code",
   "execution_count": 118,
   "metadata": {},
   "outputs": [
    {
     "data": {
      "text/html": [
       "<div>\n",
       "<style scoped>\n",
       "    .dataframe tbody tr th:only-of-type {\n",
       "        vertical-align: middle;\n",
       "    }\n",
       "\n",
       "    .dataframe tbody tr th {\n",
       "        vertical-align: top;\n",
       "    }\n",
       "\n",
       "    .dataframe thead th {\n",
       "        text-align: right;\n",
       "    }\n",
       "</style>\n",
       "<table border=\"1\" class=\"dataframe\">\n",
       "  <thead>\n",
       "    <tr style=\"text-align: right;\">\n",
       "      <th></th>\n",
       "      <th>movieId</th>\n",
       "      <th>title</th>\n",
       "      <th>rating_mean</th>\n",
       "      <th>rating_count</th>\n",
       "    </tr>\n",
       "  </thead>\n",
       "  <tbody>\n",
       "    <tr>\n",
       "      <th>0</th>\n",
       "      <td>296</td>\n",
       "      <td>Pulp Fiction</td>\n",
       "      <td>4.214286</td>\n",
       "      <td>14</td>\n",
       "    </tr>\n",
       "    <tr>\n",
       "      <th>6</th>\n",
       "      <td>8641</td>\n",
       "      <td>Anchorman: The Legend of Ron Burgundy</td>\n",
       "      <td>3.750000</td>\n",
       "      <td>6</td>\n",
       "    </tr>\n",
       "    <tr>\n",
       "      <th>14</th>\n",
       "      <td>179401</td>\n",
       "      <td>Jumanji: Welcome to the Jungle</td>\n",
       "      <td>3.666667</td>\n",
       "      <td>6</td>\n",
       "    </tr>\n",
       "    <tr>\n",
       "      <th>1</th>\n",
       "      <td>1732</td>\n",
       "      <td>Big Lebowski, The</td>\n",
       "      <td>3.555556</td>\n",
       "      <td>9</td>\n",
       "    </tr>\n",
       "    <tr>\n",
       "      <th>5</th>\n",
       "      <td>7361</td>\n",
       "      <td>Eternal Sunshine of the Spotless Mind</td>\n",
       "      <td>3.500000</td>\n",
       "      <td>8</td>\n",
       "    </tr>\n",
       "    <tr>\n",
       "      <th>10</th>\n",
       "      <td>69122</td>\n",
       "      <td>Hangover, The</td>\n",
       "      <td>3.444444</td>\n",
       "      <td>9</td>\n",
       "    </tr>\n",
       "    <tr>\n",
       "      <th>2</th>\n",
       "      <td>3948</td>\n",
       "      <td>Meet the Parents</td>\n",
       "      <td>2.950000</td>\n",
       "      <td>10</td>\n",
       "    </tr>\n",
       "  </tbody>\n",
       "</table>\n",
       "</div>"
      ],
      "text/plain": [
       "    movieId                                   title  rating_mean  rating_count\n",
       "0       296                           Pulp Fiction      4.214286            14\n",
       "6      8641  Anchorman: The Legend of Ron Burgundy      3.750000             6\n",
       "14   179401         Jumanji: Welcome to the Jungle      3.666667             6\n",
       "1      1732                      Big Lebowski, The      3.555556             9\n",
       "5      7361  Eternal Sunshine of the Spotless Mind      3.500000             8\n",
       "10    69122                          Hangover, The      3.444444             9\n",
       "2      3948                       Meet the Parents      2.950000            10"
      ]
     },
     "execution_count": 118,
     "metadata": {},
     "output_type": "execute_result"
    }
   ],
   "source": [
    "#Test\n",
    "categories_filter=['comedy']\n",
    "top_rating(df, 10, 365, categories_filter=categories_filter)"
   ]
  },
  {
   "cell_type": "markdown",
   "metadata": {},
   "source": [
    "Let's also check the top genres in a specific time frame:"
   ]
  },
  {
   "cell_type": "code",
   "execution_count": 119,
   "metadata": {},
   "outputs": [],
   "source": [
    "def top_genre(df, top, days_past):\n",
    "    df_timestamp = dateperiod(df, days_past=days_past) \n",
    "    categories = df_timestamp.columns[6:24]\n",
    "    sum_categories = dict()\n",
    "    for i in categories:\n",
    "        sum_categories[i] = df_timestamp[i].sum()\n",
    "    \n",
    "    sorted_categories = sorted(sum_categories.items(), key=lambda x: x[1], reverse=True)\n",
    "    sorted_categoriesdf = pd.DataFrame(sorted_categories).head(top)\n",
    "    sorted_categoriesdf.columns = ['Genre', 'count']\n",
    "    return sorted_categoriesdf"
   ]
  },
  {
   "cell_type": "code",
   "execution_count": 120,
   "metadata": {},
   "outputs": [
    {
     "data": {
      "text/html": [
       "<div>\n",
       "<style scoped>\n",
       "    .dataframe tbody tr th:only-of-type {\n",
       "        vertical-align: middle;\n",
       "    }\n",
       "\n",
       "    .dataframe tbody tr th {\n",
       "        vertical-align: top;\n",
       "    }\n",
       "\n",
       "    .dataframe thead th {\n",
       "        text-align: right;\n",
       "    }\n",
       "</style>\n",
       "<table border=\"1\" class=\"dataframe\">\n",
       "  <thead>\n",
       "    <tr style=\"text-align: right;\">\n",
       "      <th></th>\n",
       "      <th>Genre</th>\n",
       "      <th>count</th>\n",
       "    </tr>\n",
       "  </thead>\n",
       "  <tbody>\n",
       "    <tr>\n",
       "      <th>0</th>\n",
       "      <td>Action</td>\n",
       "      <td>837</td>\n",
       "    </tr>\n",
       "    <tr>\n",
       "      <th>1</th>\n",
       "      <td>Drama</td>\n",
       "      <td>762</td>\n",
       "    </tr>\n",
       "    <tr>\n",
       "      <th>2</th>\n",
       "      <td>Adventure</td>\n",
       "      <td>722</td>\n",
       "    </tr>\n",
       "    <tr>\n",
       "      <th>3</th>\n",
       "      <td>Comedy</td>\n",
       "      <td>572</td>\n",
       "    </tr>\n",
       "    <tr>\n",
       "      <th>4</th>\n",
       "      <td>Sci-Fi</td>\n",
       "      <td>565</td>\n",
       "    </tr>\n",
       "  </tbody>\n",
       "</table>\n",
       "</div>"
      ],
      "text/plain": [
       "       Genre  count\n",
       "0     Action    837\n",
       "1      Drama    762\n",
       "2  Adventure    722\n",
       "3     Comedy    572\n",
       "4     Sci-Fi    565"
      ]
     },
     "execution_count": 120,
     "metadata": {},
     "output_type": "execute_result"
    }
   ],
   "source": [
    "#Test\n",
    "top_genre(df, 5, 100)"
   ]
  },
  {
   "cell_type": "markdown",
   "metadata": {},
   "source": [
    "Let's create a function that give the top N most frequent tags in the choosen duration "
   ]
  },
  {
   "cell_type": "code",
   "execution_count": 121,
   "metadata": {},
   "outputs": [],
   "source": [
    "def top_tags(df, top, days_past):\n",
    "    df_timestamp = dateperiod(df, days_past=days_past) \n",
    "    tags = df_timestamp.columns[24:]\n",
    "    sum_tags = dict()\n",
    "    for i in tags:\n",
    "        sum_tags[i] = df_timestamp[i].sum()\n",
    "    \n",
    "    sorted_tags= sorted(sum_tags.items(), key=lambda x: x[1], reverse=True)\n",
    "    sorted_tagsdf = pd.DataFrame(sorted_tags).head(top)\n",
    "    sorted_tagsdf.columns = ['Tag', 'count']\n",
    "    return sorted_tagsdf"
   ]
  },
  {
   "cell_type": "code",
   "execution_count": 122,
   "metadata": {},
   "outputs": [
    {
     "data": {
      "text/html": [
       "<div>\n",
       "<style scoped>\n",
       "    .dataframe tbody tr th:only-of-type {\n",
       "        vertical-align: middle;\n",
       "    }\n",
       "\n",
       "    .dataframe tbody tr th {\n",
       "        vertical-align: top;\n",
       "    }\n",
       "\n",
       "    .dataframe thead th {\n",
       "        text-align: right;\n",
       "    }\n",
       "</style>\n",
       "<table border=\"1\" class=\"dataframe\">\n",
       "  <thead>\n",
       "    <tr style=\"text-align: right;\">\n",
       "      <th></th>\n",
       "      <th>Tag</th>\n",
       "      <th>count</th>\n",
       "    </tr>\n",
       "  </thead>\n",
       "  <tbody>\n",
       "    <tr>\n",
       "      <th>0</th>\n",
       "      <td>thought-provoking</td>\n",
       "      <td>98.0</td>\n",
       "    </tr>\n",
       "    <tr>\n",
       "      <th>1</th>\n",
       "      <td>sci-fi</td>\n",
       "      <td>92.0</td>\n",
       "    </tr>\n",
       "    <tr>\n",
       "      <th>2</th>\n",
       "      <td>atmospheric</td>\n",
       "      <td>78.0</td>\n",
       "    </tr>\n",
       "    <tr>\n",
       "      <th>3</th>\n",
       "      <td>visually appealing</td>\n",
       "      <td>76.0</td>\n",
       "    </tr>\n",
       "    <tr>\n",
       "      <th>4</th>\n",
       "      <td>superhero</td>\n",
       "      <td>71.0</td>\n",
       "    </tr>\n",
       "    <tr>\n",
       "      <th>5</th>\n",
       "      <td>twist ending</td>\n",
       "      <td>62.0</td>\n",
       "    </tr>\n",
       "    <tr>\n",
       "      <th>6</th>\n",
       "      <td>action</td>\n",
       "      <td>61.0</td>\n",
       "    </tr>\n",
       "    <tr>\n",
       "      <th>7</th>\n",
       "      <td>psychology</td>\n",
       "      <td>56.0</td>\n",
       "    </tr>\n",
       "    <tr>\n",
       "      <th>8</th>\n",
       "      <td>suspense</td>\n",
       "      <td>53.0</td>\n",
       "    </tr>\n",
       "    <tr>\n",
       "      <th>9</th>\n",
       "      <td>psychological</td>\n",
       "      <td>53.0</td>\n",
       "    </tr>\n",
       "  </tbody>\n",
       "</table>\n",
       "</div>"
      ],
      "text/plain": [
       "                  Tag  count\n",
       "0   thought-provoking   98.0\n",
       "1              sci-fi   92.0\n",
       "2         atmospheric   78.0\n",
       "3  visually appealing   76.0\n",
       "4           superhero   71.0\n",
       "5        twist ending   62.0\n",
       "6              action   61.0\n",
       "7          psychology   56.0\n",
       "8            suspense   53.0\n",
       "9       psychological   53.0"
      ]
     },
     "execution_count": 122,
     "metadata": {},
     "output_type": "execute_result"
    }
   ],
   "source": [
    "#Test\n",
    "top_tags(df, 10, 100)"
   ]
  },
  {
   "cell_type": "markdown",
   "metadata": {},
   "source": [
    "## OUTPUT\n",
    "Next, we take these outputs and we do barplots to show the rankings:"
   ]
  },
  {
   "cell_type": "markdown",
   "metadata": {},
   "source": [
    "Let's create a function that display a barchat"
   ]
  },
  {
   "cell_type": "code",
   "execution_count": 123,
   "metadata": {},
   "outputs": [],
   "source": [
    "def plot_barchart(df, x, y, color = None):\n",
    "    ax =sns.barplot(x=x, y=y, data=df, palette=color +\"s_r\")"
   ]
  },
  {
   "cell_type": "code",
   "execution_count": 124,
   "metadata": {},
   "outputs": [],
   "source": [
    "def plot_wordcloud(df):\n",
    "    df = df.set_index(df.columns[0])\n",
    "    mask = np.array(Image.open(\"cloud.png\"))\n",
    "    mask[mask == 1] = 255\n",
    "    wc = WordCloud(background_color = 'white', max_words = 50, mask = mask).generate_from_frequencies(df['count'])\n",
    "    # Partie plot\n",
    "    plt.figure(figsize=(10, 10))\n",
    "    plt.imshow(wc, interpolation=\"bilinear\")\n",
    "    plt.axis(\"off\")\n",
    "    plt.show()"
   ]
  },
  {
   "cell_type": "code",
   "execution_count": 125,
   "metadata": {},
   "outputs": [
    {
     "data": {
      "image/png": "[encoded data removed]",
      "text/plain": [
       "<Figure size 432x288 with 1 Axes>"
      ]
     },
     "metadata": {
      "needs_background": "light"
     },
     "output_type": "display_data"
    }
   ],
   "source": [
    "#Display the most popular movies\n",
    "plot_barchart(top_popular(df=df, top=10, days_past=10000), 'nb_ratings', 'title','Blue')"
   ]
  },
  {
   "cell_type": "code",
   "execution_count": 126,
   "metadata": {},
   "outputs": [
    {
     "data": {
      "image/png": "[encoded data removed]",
      "text/plain": [
       "<Figure size 432x288 with 1 Axes>"
      ]
     },
     "metadata": {
      "needs_background": "light"
     },
     "output_type": "display_data"
    }
   ],
   "source": [
    "#Display the most rated movies\n",
    "plot_barchart(top_rating(df=df, top=10, days_past=10000), 'rating_mean', 'title','Red')"
   ]
  },
  {
   "cell_type": "code",
   "execution_count": 127,
   "metadata": {},
   "outputs": [
    {
     "data": {
      "image/png": "[encoded data removed]",
      "text/plain": [
       "<Figure size 432x288 with 1 Axes>"
      ]
     },
     "metadata": {
      "needs_background": "light"
     },
     "output_type": "display_data"
    }
   ],
   "source": [
    "#Display the most popular category of movies\n",
    "plot_barchart(top_genre(df, 10, 10000), 'count', 'Genre','Green')"
   ]
  },
  {
   "cell_type": "code",
   "execution_count": 128,
   "metadata": {},
   "outputs": [
    {
     "data": {
      "image/png": "[encoded data removed]",
      "text/plain": [
       "<Figure size 432x288 with 1 Axes>"
      ]
     },
     "metadata": {
      "needs_background": "light"
     },
     "output_type": "display_data"
    }
   ],
   "source": [
    "#Display the most popular tags of movies\n",
    "plot_barchart(top_tags(df, 10, 10000), 'count', 'Tag','Purple')"
   ]
  },
  {
   "cell_type": "code",
   "execution_count": 184,
   "metadata": {},
   "outputs": [
    {
     "data": {
      "image/png": "[encoded data removed]",
      "text/plain": [
       "<Figure size 720x720 with 1 Axes>"
      ]
     },
     "metadata": {
      "needs_background": "light"
     },
     "output_type": "display_data"
    }
   ],
   "source": [
    "#Display the most popular tags of movies in a different way\n",
    "plot_wordcloud(top_tags(df, 30, 10000))"
   ]
  },
  {
   "cell_type": "code",
   "execution_count": 185,
   "metadata": {},
   "outputs": [
    {
     "data": {
      "image/png": "[encoded data removed]",
      "text/plain": [
       "<Figure size 720x720 with 1 Axes>"
      ]
     },
     "metadata": {
      "needs_background": "light"
     },
     "output_type": "display_data"
    }
   ],
   "source": [
    "#Display the most popular tags of movies in a different way\n",
    "plot_wordcloud(top_genre(df, 50, 10000))"
   ]
  },
  {
   "cell_type": "markdown",
   "metadata": {},
   "source": [
    "## MODEL TUNING"
   ]
  },
  {
   "cell_type": "markdown",
   "metadata": {},
   "source": [
    "### Création d'un modèle Matrice Factorization - SVD"
   ]
  },
  {
   "cell_type": "code",
   "execution_count": 131,
   "metadata": {},
   "outputs": [],
   "source": [
    "from surprise import Dataset, Reader, SVD, accuracy\n",
    "from surprise.model_selection import train_test_split"
   ]
  },
  {
   "cell_type": "code",
   "execution_count": 132,
   "metadata": {},
   "outputs": [
    {
     "name": "stdout",
     "output_type": "stream",
     "text": [
      "RMSE: 0.8393\n"
     ]
    },
    {
     "data": {
      "text/plain": [
       "0.8393487325002984"
      ]
     },
     "execution_count": 132,
     "metadata": {},
     "output_type": "execute_result"
    }
   ],
   "source": [
    "# instantiate a reader and read in our rating data\n",
    "reader = Reader(rating_scale=(1, 5))\n",
    "data = Dataset.load_from_df(dfratings[['userId','movieId','rating']], reader)\n",
    " \n",
    "# train SVD on 75% of known rates\n",
    "trainset, testset = train_test_split(data, test_size=.15, random_state = 10)\n",
    "algorithm = SVD(n_factors= 150, n_epochs= 75, lr_all= 0.01, reg_all= 0.1, random_state = 10)\n",
    " \n",
    "algorithm.fit(trainset)\n",
    "\n",
    "predictions = algorithm.test(testset)\n",
    "\n",
    "# check the accuracy using Root Mean Square Error\n",
    "accuracy.rmse(predictions)\n"
   ]
  },
  {
   "cell_type": "code",
   "execution_count": 133,
   "metadata": {},
   "outputs": [],
   "source": [
    "def add_titles(df):\n",
    "    mask = dfmovies['movieId'].isin(df['movieId'])\n",
    "    dftojoin = dfmovies.loc[mask][['title', 'movieId']]\n",
    "    \n",
    "    return pd.merge(dftojoin, df, on='movieId')"
   ]
  },
  {
   "cell_type": "code",
   "execution_count": 134,
   "metadata": {},
   "outputs": [],
   "source": [
    "def predict_ratings_user(df, userid, top):\n",
    "    user = userid\n",
    "    #Extract the user's movies attributs\n",
    "    user_movies = df.loc[df[\"userId\"] == user]\n",
    "    user_movies = user_movies.drop(['userId','rating','dates','title','year'], axis=1)\n",
    "    \n",
    "    #List of movies viewed by the user\n",
    "    list_of_movies_view = user_movies[\"movieId\"]\n",
    "    \n",
    "    \n",
    "    mask = ~df['movieId'].isin(list_of_movies_view)\n",
    "    \n",
    "    # Create a subset of only the non read books\n",
    "    #non_user_movies = genre_df.drop(list_of_movies_view, axis=0)\n",
    "    non_user_movies = df['movieId'].loc[mask].unique()\n",
    "    \n",
    "    predicted_ratings=[]\n",
    "    uid = []\n",
    "    for i in non_user_movies:\n",
    "        predicted_ratings.append((i, algorithm.predict(user, i).est))\n",
    "        \n",
    "        \n",
    "    # check the preferences of a particular user\n",
    "    pdf = pd.DataFrame(predicted_ratings, columns = ['movieId','ratings'])\n",
    "    \n",
    "    pdf = add_titles(pdf).sort_values('ratings', ascending=False, inplace=False).head(top)\n",
    "    \n",
    "\n",
    "    #mask = dfmovies['movieId'].isin(pdf['movieId'])\n",
    "    \n",
    "    \n",
    "    #dftojoin = dfmovies.loc[mask][['title', 'movieId']]\n",
    "\n",
    "    return pdf"
   ]
  },
  {
   "cell_type": "code",
   "execution_count": 135,
   "metadata": {},
   "outputs": [
    {
     "data": {
      "text/html": [
       "<div>\n",
       "<style scoped>\n",
       "    .dataframe tbody tr th:only-of-type {\n",
       "        vertical-align: middle;\n",
       "    }\n",
       "\n",
       "    .dataframe tbody tr th {\n",
       "        vertical-align: top;\n",
       "    }\n",
       "\n",
       "    .dataframe thead th {\n",
       "        text-align: right;\n",
       "    }\n",
       "</style>\n",
       "<table border=\"1\" class=\"dataframe\">\n",
       "  <thead>\n",
       "    <tr style=\"text-align: right;\">\n",
       "      <th></th>\n",
       "      <th>title</th>\n",
       "      <th>movieId</th>\n",
       "      <th>ratings</th>\n",
       "    </tr>\n",
       "  </thead>\n",
       "  <tbody>\n",
       "    <tr>\n",
       "      <th>5320</th>\n",
       "      <td>Bad Boy Bubby</td>\n",
       "      <td>26810</td>\n",
       "      <td>4.686254</td>\n",
       "    </tr>\n",
       "    <tr>\n",
       "      <th>5394</th>\n",
       "      <td>My Sassy Girl (Yeopgijeogin geunyeo)</td>\n",
       "      <td>27523</td>\n",
       "      <td>4.460133</td>\n",
       "    </tr>\n",
       "    <tr>\n",
       "      <th>2471</th>\n",
       "      <td>Guess Who's Coming to Dinner</td>\n",
       "      <td>3451</td>\n",
       "      <td>4.418791</td>\n",
       "    </tr>\n",
       "    <tr>\n",
       "      <th>3865</th>\n",
       "      <td>My Dinner with André</td>\n",
       "      <td>5772</td>\n",
       "      <td>4.408545</td>\n",
       "    </tr>\n",
       "    <tr>\n",
       "      <th>5914</th>\n",
       "      <td>Peaceful Warrior</td>\n",
       "      <td>45503</td>\n",
       "      <td>4.406292</td>\n",
       "    </tr>\n",
       "    <tr>\n",
       "      <th>8705</th>\n",
       "      <td>Captain Fantastic</td>\n",
       "      <td>158966</td>\n",
       "      <td>4.385114</td>\n",
       "    </tr>\n",
       "    <tr>\n",
       "      <th>5766</th>\n",
       "      <td>Match Factory Girl, The (Tulitikkutehtaan tyttö)</td>\n",
       "      <td>40491</td>\n",
       "      <td>4.376869</td>\n",
       "    </tr>\n",
       "    <tr>\n",
       "      <th>704</th>\n",
       "      <td>It's a Wonderful Life</td>\n",
       "      <td>953</td>\n",
       "      <td>4.373777</td>\n",
       "    </tr>\n",
       "    <tr>\n",
       "      <th>4557</th>\n",
       "      <td>Adam's Rib</td>\n",
       "      <td>7121</td>\n",
       "      <td>4.369536</td>\n",
       "    </tr>\n",
       "    <tr>\n",
       "      <th>2414</th>\n",
       "      <td>Taking of Pelham One Two Three, The</td>\n",
       "      <td>3384</td>\n",
       "      <td>4.346308</td>\n",
       "    </tr>\n",
       "  </tbody>\n",
       "</table>\n",
       "</div>"
      ],
      "text/plain": [
       "                                                  title  movieId   ratings\n",
       "5320                                     Bad Boy Bubby     26810  4.686254\n",
       "5394              My Sassy Girl (Yeopgijeogin geunyeo)     27523  4.460133\n",
       "2471                      Guess Who's Coming to Dinner      3451  4.418791\n",
       "3865                              My Dinner with André      5772  4.408545\n",
       "5914                                  Peaceful Warrior     45503  4.406292\n",
       "8705                                 Captain Fantastic    158966  4.385114\n",
       "5766  Match Factory Girl, The (Tulitikkutehtaan tyttö)     40491  4.376869\n",
       "704                              It's a Wonderful Life       953  4.373777\n",
       "4557                                        Adam's Rib      7121  4.369536\n",
       "2414               Taking of Pelham One Two Three, The      3384  4.346308"
      ]
     },
     "execution_count": 135,
     "metadata": {},
     "output_type": "execute_result"
    }
   ],
   "source": [
    "predict_ratings_user(df, 111, 10)"
   ]
  },
  {
   "cell_type": "markdown",
   "metadata": {},
   "source": [
    "### Content-based recommandation models creation"
   ]
  },
  {
   "cell_type": "code",
   "execution_count": 136,
   "metadata": {},
   "outputs": [
    {
     "data": {
      "text/plain": [
       "Index(['movieId', 'userId', 'rating', 'dates', 'title', 'year', 'Action',\n",
       "       'Adventure', 'Animation', 'Children', 'Comedy', 'Crime', 'Documentary',\n",
       "       'Drama', 'Fantasy', 'Film-Noir', 'Horror', 'Musical', 'Mystery',\n",
       "       'Romance', 'Sci-Fi', 'Thriller', 'War', 'Western', 'in netflix queue',\n",
       "       'atmospheric', 'thought-provoking', 'surreal', 'superhero', 'funny',\n",
       "       'disney', 'sci-fi', 'quirky', 'religion', 'suspense', 'psychology',\n",
       "       'dark comedy', 'twist ending', 'visually appealing', 'politics',\n",
       "       'comedy', 'crime', 'music', 'mental illness', 'high school',\n",
       "       'time travel', 'action', 'dark', 'mindfuck', 'aliens', 'space',\n",
       "       'black comedy', 'dreamlike', 'disturbing', 'stephen king',\n",
       "       'shakespeare', 'holocaust', 'emotional', 'mafia', 'heist', 'journalism',\n",
       "       'anime', 'court', 'classic', 'christmas', 'satire', 'comic book',\n",
       "       'psychological', 'animation', 'ghosts', 'boxing', 'adolescence',\n",
       "       'imdb top 250', 'adultery', 'bittersweet'],\n",
       "      dtype='object')"
      ]
     },
     "execution_count": 136,
     "metadata": {},
     "output_type": "execute_result"
    }
   ],
   "source": [
    "df.columns"
   ]
  },
  {
   "cell_type": "markdown",
   "metadata": {},
   "source": [
    "List of movies with their attributes"
   ]
  },
  {
   "cell_type": "code",
   "execution_count": 137,
   "metadata": {},
   "outputs": [],
   "source": [
    "def movies_genres(df):\n",
    "    genre_df=df.drop_duplicates(['movieId','Action','Adventure','Animation','Children','Comedy','Crime','Documentary',\\\n",
    "                             'Drama','Fantasy','Film-Noir','Horror','Musical','Mystery','Romance','Sci-Fi','Thriller',\\\n",
    "                             'War','Western','in netflix queue','atmospheric', 'superhero', 'surreal', 'funny', \\\n",
    "                             'thought-provoking','disney', 'sci-fi', 'religion', 'quirky', 'dark comedy', 'suspense',\\\n",
    "                             'psychology', 'visually appealing', 'twist ending', 'politics','comedy', 'crime', 'music',\\\n",
    "                             'action', 'mental illness', 'time travel','high school', 'dark', 'aliens', 'mindfuck', 'space',\\\n",
    "                             'dreamlike', 'black comedy', 'mafia', 'disturbing', 'stephen king', 'heist', 'journalism', \\\n",
    "                             'emotional', 'holocaust', 'shakespeare', 'classic', 'anime', 'court', 'satire', 'christmas', \\\n",
    "                             'boxing', 'adultery', 'imdb top 250', 'comic book', 'ghosts', 'psychological', 'adolescence',\\\n",
    "                             'bittersweet', 'animation'])\\\n",
    "                        [['movieId','Action','Adventure','Animation','Children','Comedy','Crime','Documentary',\\\n",
    "                             'Drama','Fantasy','Film-Noir','Horror','Musical','Mystery','Romance','Sci-Fi','Thriller',\\\n",
    "                             'War','Western','in netflix queue','atmospheric', 'superhero', 'surreal', 'funny', \\\n",
    "                             'thought-provoking','disney', 'sci-fi', 'religion', 'quirky', 'dark comedy', 'suspense',\\\n",
    "                             'psychology', 'visually appealing', 'twist ending', 'politics','comedy', 'crime', 'music',\\\n",
    "                             'action', 'mental illness', 'time travel','high school', 'dark', 'aliens', 'mindfuck', 'space',\\\n",
    "                             'dreamlike', 'black comedy', 'mafia', 'disturbing', 'stephen king', 'heist', 'journalism', \\\n",
    "                             'emotional', 'holocaust', 'shakespeare', 'classic', 'anime', 'court', 'satire', 'christmas', \\\n",
    "                             'boxing', 'adultery', 'imdb top 250', 'comic book', 'ghosts', 'psychological', 'adolescence',\\\n",
    "                             'bittersweet', 'animation']].reset_index(drop = True)\n",
    "\n",
    "    return genre_df"
   ]
  },
  {
   "cell_type": "markdown",
   "metadata": {},
   "source": [
    "#### Model based on defined attributes"
   ]
  },
  {
   "cell_type": "code",
   "execution_count": 138,
   "metadata": {},
   "outputs": [],
   "source": [
    "from scipy.spatial.distance import pdist, squareform\n",
    "\n",
    "def jaccard_similarity_table(df):\n",
    "    genre_df = movies_genres(df)\n",
    "    #Calculating Jaccard similarity between movies with the distance of Jaccard in a list\n",
    "\n",
    "    jaccard_distances = pdist(genre_df.values, metric='jaccard')\n",
    "    \n",
    "    #Finding the distance between all items in a matrix\n",
    "    square_jaccard_distances = squareform(jaccard_distances)\n",
    "    \n",
    "    #The similarity is calculated from the distance. If the distance is small, the similarity is better.\n",
    "    jaccard_similarity_array = 1 - square_jaccard_distances\n",
    "    \n",
    "    #Creating a usable similarity table\n",
    "    similarity_df = pd.DataFrame(jaccard_similarity_array,\n",
    "                           index=genre_df['movieId'],\n",
    "                           columns=genre_df['movieId'])\n",
    "    \n",
    "    return similarity_df"
   ]
  },
  {
   "cell_type": "markdown",
   "metadata": {},
   "source": [
    "Jaccard similarity matrix calcul"
   ]
  },
  {
   "cell_type": "code",
   "execution_count": 139,
   "metadata": {},
   "outputs": [],
   "source": [
    "similarity_df = jaccard_similarity_table(df)"
   ]
  },
  {
   "cell_type": "markdown",
   "metadata": {},
   "source": [
    "Function to obtain the similarity rate between 2 movies"
   ]
  },
  {
   "cell_type": "code",
   "execution_count": 140,
   "metadata": {},
   "outputs": [],
   "source": [
    "def similarity_movies(movieId1, movieId2):\n",
    "    return similarity_df[movieId1][movieId2]"
   ]
  },
  {
   "cell_type": "markdown",
   "metadata": {},
   "source": [
    "Comparing movies (1 & 2)"
   ]
  },
  {
   "cell_type": "code",
   "execution_count": 141,
   "metadata": {},
   "outputs": [
    {
     "name": "stdout",
     "output_type": "stream",
     "text": [
      "0.5\n"
     ]
    }
   ],
   "source": [
    "print(similarity_movies(1,2))"
   ]
  },
  {
   "cell_type": "markdown",
   "metadata": {},
   "source": [
    "Comparing close movies (95473 & 95475)"
   ]
  },
  {
   "cell_type": "code",
   "execution_count": 142,
   "metadata": {},
   "outputs": [
    {
     "name": "stdout",
     "output_type": "stream",
     "text": [
      "0.75\n"
     ]
    }
   ],
   "source": [
    "print(similarity_movies(95473,95475))"
   ]
  },
  {
   "cell_type": "markdown",
   "metadata": {},
   "source": [
    "Function to obtain the list of most similar movies of 1 movie"
   ]
  },
  {
   "cell_type": "code",
   "execution_count": 143,
   "metadata": {},
   "outputs": [],
   "source": [
    "def similar_movies(movieId, top):\n",
    "    similarity = similarity_df[movieId].sort_values(ascending=False).reset_index()\n",
    "    #similarity.rename(column={1:'similarity_score'}, inplace=True)\n",
    "    similarity.columns = ['movieId', 'similarity_score']\n",
    "    \n",
    "        \n",
    "    pdf = add_titles(similarity).sort_values('similarity_score', ascending=False, inplace=False).head(top)\n",
    "    \n",
    "\n",
    "    return pdf"
   ]
  },
  {
   "cell_type": "markdown",
   "metadata": {},
   "source": [
    "Finding the most similar movies"
   ]
  },
  {
   "cell_type": "code",
   "execution_count": 144,
   "metadata": {},
   "outputs": [
    {
     "data": {
      "text/html": [
       "<div>\n",
       "<style scoped>\n",
       "    .dataframe tbody tr th:only-of-type {\n",
       "        vertical-align: middle;\n",
       "    }\n",
       "\n",
       "    .dataframe tbody tr th {\n",
       "        vertical-align: top;\n",
       "    }\n",
       "\n",
       "    .dataframe thead th {\n",
       "        text-align: right;\n",
       "    }\n",
       "</style>\n",
       "<table border=\"1\" class=\"dataframe\">\n",
       "  <thead>\n",
       "    <tr style=\"text-align: right;\">\n",
       "      <th></th>\n",
       "      <th>title</th>\n",
       "      <th>movieId</th>\n",
       "      <th>similarity_score</th>\n",
       "    </tr>\n",
       "  </thead>\n",
       "  <tbody>\n",
       "    <tr>\n",
       "      <th>0</th>\n",
       "      <td>Toy Story</td>\n",
       "      <td>1</td>\n",
       "      <td>1.000000</td>\n",
       "    </tr>\n",
       "    <tr>\n",
       "      <th>6931</th>\n",
       "      <td>Tale of Despereaux, The</td>\n",
       "      <td>65577</td>\n",
       "      <td>0.833333</td>\n",
       "    </tr>\n",
       "    <tr>\n",
       "      <th>1705</th>\n",
       "      <td>Antz</td>\n",
       "      <td>2294</td>\n",
       "      <td>0.833333</td>\n",
       "    </tr>\n",
       "    <tr>\n",
       "      <th>6469</th>\n",
       "      <td>Shrek the Third</td>\n",
       "      <td>53121</td>\n",
       "      <td>0.833333</td>\n",
       "    </tr>\n",
       "    <tr>\n",
       "      <th>9412</th>\n",
       "      <td>Moana</td>\n",
       "      <td>166461</td>\n",
       "      <td>0.833333</td>\n",
       "    </tr>\n",
       "  </tbody>\n",
       "</table>\n",
       "</div>"
      ],
      "text/plain": [
       "                         title  movieId  similarity_score\n",
       "0                   Toy Story         1          1.000000\n",
       "6931  Tale of Despereaux, The     65577          0.833333\n",
       "1705                     Antz      2294          0.833333\n",
       "6469          Shrek the Third     53121          0.833333\n",
       "9412                    Moana    166461          0.833333"
      ]
     },
     "execution_count": 144,
     "metadata": {},
     "output_type": "execute_result"
    }
   ],
   "source": [
    "similar_movies(1,5)"
   ]
  },
  {
   "cell_type": "markdown",
   "metadata": {},
   "source": [
    "#### Recommendations model based on user profil"
   ]
  },
  {
   "cell_type": "markdown",
   "metadata": {},
   "source": [
    "Finding recommendations for a user according to movies already seen by him"
   ]
  },
  {
   "cell_type": "code",
   "execution_count": 145,
   "metadata": {},
   "outputs": [],
   "source": [
    "from sklearn.metrics.pairwise import cosine_similarity\n",
    "\n",
    "def user_profil_recommendation(df, user):\n",
    "    #Extract the user's movies attributs\n",
    "    user_movies = df.loc[df[\"userId\"] == user]\n",
    "    user_movies = user_movies.drop(['userId','rating','dates','title','year'], axis=1)\n",
    "    \n",
    "    #List of movies viewed by the user\n",
    "    list_of_movies_view = user_movies[\"movieId\"]\n",
    "    #print(list_of_movies_view)\n",
    "    \n",
    "    #indexation on movieId\n",
    "    user_movies.reset_index(drop = True)\n",
    "    user_movies.set_index([\"movieId\"], inplace = True, append = True, drop = True)\n",
    "    \n",
    "    #Build the user profile based on mean of viewed movies attributs\n",
    "    user_prof = user_movies.mean()\n",
    "    user_prof.values.reshape(1,-1)\n",
    "\n",
    "    #List of movies with their attributes\n",
    "    genre_df = movies_genres(df)\n",
    "    \n",
    "    mask = ~genre_df['movieId'].isin(list_of_movies_view)\n",
    "    \n",
    "    # Create a subset of only the non read books\n",
    "    #non_user_movies = genre_df.drop(list_of_movies_view, axis=0)\n",
    "    non_user_movies = genre_df.loc[mask]\n",
    "    \n",
    "    #indexation on movieId\n",
    "    non_user_movies.reset_index(drop = True)\n",
    "    non_user_movies.set_index([\"movieId\"], inplace = True, append = True, drop = True)\n",
    "    \n",
    "    # Calculate the cosine similarity between all rows\n",
    "    user_prof_similarities = cosine_similarity(user_prof.values.reshape(1, -1), non_user_movies)\n",
    "    \n",
    "    # Wrap in a DataFrame for ease of use\n",
    "    user_prof_similarities_df = pd.DataFrame(user_prof_similarities.T, index=non_user_movies.index, columns=[\"similarity_score\"])\n",
    "    \n",
    "    #sort by similarity score descending\n",
    "    sorted_similarity_df = user_prof_similarities_df.sort_values(by=\"similarity_score\", ascending=False).reset_index()\n",
    "    sorted_similarity_df = sorted_similarity_df.drop('level_0', axis=1)\n",
    "    \n",
    "    return(sorted_similarity_df, list_of_movies_view)"
   ]
  },
  {
   "cell_type": "code",
   "execution_count": 146,
   "metadata": {},
   "outputs": [],
   "source": [
    "def recommender(df, user_id, top):\n",
    "    #recover movie recommendations for a user from his profil\n",
    "    dfrecommended, list_of_movies_view =(user_profil_recommendation(df, user_id))\n",
    "    \n",
    "            \n",
    "    pdf = add_titles(dfrecommended).sort_values('similarity_score', ascending=False, inplace=False).head(top)\n",
    "    \n",
    "    return pdf"
   ]
  },
  {
   "cell_type": "markdown",
   "metadata": {},
   "source": [
    "Top 5 of movies recommended to user 1 according to movies already seen"
   ]
  },
  {
   "cell_type": "code",
   "execution_count": 147,
   "metadata": {},
   "outputs": [
    {
     "data": {
      "text/html": [
       "<div>\n",
       "<style scoped>\n",
       "    .dataframe tbody tr th:only-of-type {\n",
       "        vertical-align: middle;\n",
       "    }\n",
       "\n",
       "    .dataframe tbody tr th {\n",
       "        vertical-align: top;\n",
       "    }\n",
       "\n",
       "    .dataframe thead th {\n",
       "        text-align: right;\n",
       "    }\n",
       "</style>\n",
       "<table border=\"1\" class=\"dataframe\">\n",
       "  <thead>\n",
       "    <tr style=\"text-align: right;\">\n",
       "      <th></th>\n",
       "      <th>title</th>\n",
       "      <th>movieId</th>\n",
       "      <th>similarity_score</th>\n",
       "    </tr>\n",
       "  </thead>\n",
       "  <tbody>\n",
       "    <tr>\n",
       "      <th>8347</th>\n",
       "      <td>Dragonheart 2: A New Beginning</td>\n",
       "      <td>117646</td>\n",
       "      <td>0.859646</td>\n",
       "    </tr>\n",
       "    <tr>\n",
       "      <th>6321</th>\n",
       "      <td>Hunting Party, The</td>\n",
       "      <td>55116</td>\n",
       "      <td>0.838284</td>\n",
       "    </tr>\n",
       "    <tr>\n",
       "      <th>3372</th>\n",
       "      <td>Stunt Man, The</td>\n",
       "      <td>4956</td>\n",
       "      <td>0.817467</td>\n",
       "    </tr>\n",
       "    <tr>\n",
       "      <th>4441</th>\n",
       "      <td>The Great Train Robbery</td>\n",
       "      <td>6990</td>\n",
       "      <td>0.816282</td>\n",
       "    </tr>\n",
       "    <tr>\n",
       "      <th>3768</th>\n",
       "      <td>Flashback</td>\n",
       "      <td>5657</td>\n",
       "      <td>0.816282</td>\n",
       "    </tr>\n",
       "  </tbody>\n",
       "</table>\n",
       "</div>"
      ],
      "text/plain": [
       "                                title  movieId  similarity_score\n",
       "8347  Dragonheart 2: A New Beginning    117646          0.859646\n",
       "6321              Hunting Party, The     55116          0.838284\n",
       "3372                  Stunt Man, The      4956          0.817467\n",
       "4441         The Great Train Robbery      6990          0.816282\n",
       "3768                       Flashback      5657          0.816282"
      ]
     },
     "execution_count": 147,
     "metadata": {},
     "output_type": "execute_result"
    }
   ],
   "source": [
    "recommender(df,1,5)"
   ]
  },
  {
   "cell_type": "markdown",
   "metadata": {},
   "source": [
    "### Creation Collaborative filtering model"
   ]
  },
  {
   "cell_type": "markdown",
   "metadata": {},
   "source": [
    "#### Input data preparation"
   ]
  },
  {
   "cell_type": "code",
   "execution_count": 148,
   "metadata": {},
   "outputs": [
    {
     "name": "stdout",
     "output_type": "stream",
     "text": [
      "Requirement already satisfied: fuzzywuzzy in a:\\programs\\autre\\anaconda\\envs\\tf\\lib\\site-packages (0.18.0)\n",
      "Note: you may need to restart the kernel to use updated packages.\n"
     ]
    }
   ],
   "source": [
    "pip install fuzzywuzzy"
   ]
  },
  {
   "cell_type": "code",
   "execution_count": 149,
   "metadata": {},
   "outputs": [
    {
     "name": "stderr",
     "output_type": "stream",
     "text": [
      "A:\\Programs\\AUTRE\\Anaconda\\envs\\tf\\lib\\site-packages\\fuzzywuzzy\\fuzz.py:11: UserWarning: Using slow pure-python SequenceMatcher. Install python-Levenshtein to remove this warning\n",
      "  warnings.warn('Using slow pure-python SequenceMatcher. Install python-Levenshtein to remove this warning')\n"
     ]
    }
   ],
   "source": [
    "import os\n",
    "import time\n",
    "import gc\n",
    "from sklearn.neighbors import NearestNeighbors\n",
    "from scipy.sparse import csr_matrix\n",
    "\n",
    "# utils import\n",
    "from fuzzywuzzy import fuzz\n",
    "def prep_data(df_ratings,df_movies):\n",
    "        \"\"\"\n",
    "        prepare data for recommender\n",
    "        1. movie-user scipy sparse matrix\n",
    "        2. hashmap of movie to row index in movie-user scipy sparse matrix\n",
    "        \"\"\"\n",
    "        # filter data\n",
    "        df_movies_cnt = pd.DataFrame(df_ratings.groupby('movieId').size(),columns=['count'])\n",
    "        popular_movies = list(set(df_movies_cnt.query('count >= 10').index))  # noqa\n",
    "        movies_filter = df_ratings.movieId.isin(popular_movies).values\n",
    "\n",
    "        df_users_cnt = pd.DataFrame(df_ratings.groupby('userId').size(),columns=['count'])\n",
    "        active_users = list(set(df_users_cnt.query('count >= 10').index))  # noqa\n",
    "        users_filter = df_ratings.userId.isin(active_users).values\n",
    "\n",
    "        df_ratings_filtered = df_ratings[movies_filter & users_filter]\n",
    "\n",
    "        # pivot and create movie-user matrix\n",
    "        movie_user_mat = df_ratings_filtered.pivot(\n",
    "            index='movieId', columns='userId', values='rating').fillna(0)\n",
    "        # create mapper from movie title to index\n",
    "        hashmap = {\n",
    "            movie: i for i, movie in\n",
    "            enumerate(list(df_movies.set_index('movieId').loc[movie_user_mat.index].title)) # noqa\n",
    "        }\n",
    "        # transform matrix to scipy sparse matrix\n",
    "        movie_user_mat_sparse = csr_matrix(movie_user_mat.values)\n",
    "        # clean up\n",
    "        del df_movies, df_movies_cnt, df_users_cnt\n",
    "        del df_ratings, df_ratings_filtered, movie_user_mat\n",
    "        gc.collect()\n",
    "        return movie_user_mat_sparse, hashmap\n"
   ]
  },
  {
   "cell_type": "code",
   "execution_count": 150,
   "metadata": {},
   "outputs": [],
   "source": [
    "def fuzzy_matching(hashmap, fav_movie):\n",
    "        \"\"\"\n",
    "        return the closest match via fuzzy ratio.\n",
    "        If no match found, return None\n",
    "        Parameters\n",
    "        ----------\n",
    "        hashmap: dict, map movie title name to index of the movie in data\n",
    "        fav_movie: str, name of user input movie\n",
    "        Return\n",
    "        ------\n",
    "        index of the closest match\n",
    "        \"\"\"\n",
    "        match_tuple = []\n",
    "        # get match\n",
    "        for title, idx in hashmap.items():\n",
    "            ratio = fuzz.ratio(title.lower(), fav_movie.lower())\n",
    "            if ratio >= 60:\n",
    "                match_tuple.append((title, idx, ratio))\n",
    "        # sort\n",
    "        match_tuple = sorted(match_tuple, key=lambda x: x[2])[::-1]\n",
    "        if not match_tuple:\n",
    "            print('Oops! No match is found')\n",
    "        else:\n",
    "            print('Found possible matches in our database: '\n",
    "                  '{0}\\n'.format([x[0] for x in match_tuple]))\n",
    "            return match_tuple[0][1]"
   ]
  },
  {
   "cell_type": "markdown",
   "metadata": {},
   "source": [
    "#### Make films recommendations NearestNeighbors"
   ]
  },
  {
   "cell_type": "code",
   "execution_count": 151,
   "metadata": {},
   "outputs": [],
   "source": [
    "from sklearn.neighbors import NearestNeighbors\n",
    "model = NearestNeighbors(metric='cosine', algorithm='brute', n_neighbors=20, n_jobs=-1)"
   ]
  },
  {
   "cell_type": "code",
   "execution_count": 152,
   "metadata": {},
   "outputs": [],
   "source": [
    "def inference(model, data, hashmap,fav_movie, n_recommendations):\n",
    "        \"\"\"\n",
    "        return top n similar movie recommendations based on user's input movie\n",
    "        Parameters\n",
    "        ----------\n",
    "        model: sklearn model, knn model\n",
    "        data: movie-user matrix\n",
    "        hashmap: dict, map movie title name to index of the movie in data\n",
    "        fav_movie: str, name of user input movie\n",
    "        n_recommendations: int, top n recommendations\n",
    "        Return\n",
    "        ------\n",
    "        list of top n similar movie recommendations\n",
    "        \"\"\"\n",
    "        # fit\n",
    "        model.fit(data)\n",
    "        # get input movie index\n",
    "        print('You have input movie:', fav_movie)\n",
    "        idx = fuzzy_matching(hashmap, fav_movie)\n",
    "        # inference\n",
    "        print('Recommendation system start to make inference')\n",
    "        print('......\\n')\n",
    "        t0 = time.time()\n",
    "        distances, indices = model.kneighbors(data[idx],n_neighbors=n_recommendations+1)\n",
    "        # get list of raw idx of recommendations\n",
    "        raw_recommends = \\\n",
    "            sorted(\n",
    "                list(\n",
    "                    zip(\n",
    "                        indices.squeeze().tolist(),\n",
    "                        distances.squeeze().tolist()\n",
    "                    )\n",
    "                ),\n",
    "                key=lambda x: x[1]\n",
    "            )[:0:-1]\n",
    "        print('It took my system {:.2f}s to make inference \\n\\\n",
    "              '.format(time.time() - t0))\n",
    "        # return recommendation (movieId, distance)\n",
    "        return raw_recommends"
   ]
  },
  {
   "cell_type": "code",
   "execution_count": 153,
   "metadata": {},
   "outputs": [],
   "source": [
    "def make_recommendations(fav_movie, n_recommendations):\n",
    "        \"\"\"\n",
    "        make top n movie recommendations\n",
    "        Parameters\n",
    "        ----------\n",
    "        fav_movie: str, name of user input movie\n",
    "        n_recommendations: int, top n recommendations\n",
    "        \"\"\"\n",
    "        # get data\n",
    "        movie_user_mat_sparse, hashmap = prep_data(dfratings,df_movies_initial)\n",
    "        # get recommendations\n",
    "        raw_recommends = inference(model, movie_user_mat_sparse, hashmap,fav_movie, n_recommendations)\n",
    "        # print results\n",
    "        raw_recommends = sorted(raw_recommends, key=lambda raw_recommends: raw_recommends[1]) \n",
    "        reverse_hashmap = {v: k for k, v in hashmap.items()}\n",
    "        print('Top recommendations for {}:'.format(fav_movie))\n",
    "        for i, (idx, dist) in enumerate(raw_recommends):\n",
    "            print('{0}: {1}, with distance of {2}'.format(i+1, reverse_hashmap[idx], dist))"
   ]
  },
  {
   "cell_type": "code",
   "execution_count": 154,
   "metadata": {},
   "outputs": [
    {
     "name": "stdout",
     "output_type": "stream",
     "text": [
      "You have input movie: iron man\n",
      "Found possible matches in our database: ['Iron Man (2008)', 'Iron Man 3 (2013)', 'Iron Man 2 (2010)']\n",
      "\n",
      "Recommendation system start to make inference\n",
      "......\n",
      "\n",
      "It took my system 0.05s to make inference \n",
      "              \n",
      "Top recommendations for iron man:\n",
      "1: Dark Knight, The (2008), with distance of 0.32946219051576764\n",
      "2: WALL·E (2008), with distance of 0.3322251199632066\n",
      "3: Avengers, The (2012), with distance of 0.3413244923996469\n",
      "4: Iron Man 2 (2010), with distance of 0.35801447096159067\n",
      "5: Avatar (2009), with distance of 0.3757322316601438\n",
      "6: Batman Begins (2005), with distance of 0.4029287417301053\n",
      "7: Up (2009), with distance of 0.40326434789507326\n",
      "8: Thor (2011), with distance of 0.4105084379024724\n",
      "9: Guardians of the Galaxy (2014), with distance of 0.4110291189201821\n",
      "10: Star Trek (2009), with distance of 0.4175134166051351\n"
     ]
    }
   ],
   "source": [
    "make_recommendations('iron man', 10)"
   ]
  },
  {
   "cell_type": "markdown",
   "metadata": {},
   "source": [
    "## Let's also get statistics for a given client"
   ]
  },
  {
   "cell_type": "code",
   "execution_count": 155,
   "metadata": {},
   "outputs": [
    {
     "data": {
      "text/html": [
       "<div>\n",
       "<style scoped>\n",
       "    .dataframe tbody tr th:only-of-type {\n",
       "        vertical-align: middle;\n",
       "    }\n",
       "\n",
       "    .dataframe tbody tr th {\n",
       "        vertical-align: top;\n",
       "    }\n",
       "\n",
       "    .dataframe thead th {\n",
       "        text-align: right;\n",
       "    }\n",
       "</style>\n",
       "<table border=\"1\" class=\"dataframe\">\n",
       "  <thead>\n",
       "    <tr style=\"text-align: right;\">\n",
       "      <th></th>\n",
       "      <th>movieId</th>\n",
       "      <th>userId</th>\n",
       "      <th>rating</th>\n",
       "      <th>dates</th>\n",
       "      <th>title</th>\n",
       "      <th>year</th>\n",
       "      <th>Action</th>\n",
       "      <th>Adventure</th>\n",
       "      <th>Animation</th>\n",
       "      <th>Children</th>\n",
       "      <th>...</th>\n",
       "      <th>satire</th>\n",
       "      <th>comic book</th>\n",
       "      <th>psychological</th>\n",
       "      <th>animation</th>\n",
       "      <th>ghosts</th>\n",
       "      <th>boxing</th>\n",
       "      <th>adolescence</th>\n",
       "      <th>imdb top 250</th>\n",
       "      <th>adultery</th>\n",
       "      <th>bittersweet</th>\n",
       "    </tr>\n",
       "  </thead>\n",
       "  <tbody>\n",
       "    <tr>\n",
       "      <th>394</th>\n",
       "      <td>5</td>\n",
       "      <td>111</td>\n",
       "      <td>3.5</td>\n",
       "      <td>2018-02-01 00:28:39</td>\n",
       "      <td>Father of the Bride Part II</td>\n",
       "      <td>1995</td>\n",
       "      <td>0</td>\n",
       "      <td>0</td>\n",
       "      <td>0</td>\n",
       "      <td>0</td>\n",
       "      <td>...</td>\n",
       "      <td>0.0</td>\n",
       "      <td>0.0</td>\n",
       "      <td>0.0</td>\n",
       "      <td>0.0</td>\n",
       "      <td>0.0</td>\n",
       "      <td>0.0</td>\n",
       "      <td>0.0</td>\n",
       "      <td>0.0</td>\n",
       "      <td>0.0</td>\n",
       "      <td>0.0</td>\n",
       "    </tr>\n",
       "    <tr>\n",
       "      <th>886</th>\n",
       "      <td>16</td>\n",
       "      <td>111</td>\n",
       "      <td>4.5</td>\n",
       "      <td>2018-02-14 21:39:28</td>\n",
       "      <td>Casino</td>\n",
       "      <td>1995</td>\n",
       "      <td>0</td>\n",
       "      <td>0</td>\n",
       "      <td>0</td>\n",
       "      <td>0</td>\n",
       "      <td>...</td>\n",
       "      <td>0.0</td>\n",
       "      <td>0.0</td>\n",
       "      <td>0.0</td>\n",
       "      <td>0.0</td>\n",
       "      <td>0.0</td>\n",
       "      <td>0.0</td>\n",
       "      <td>0.0</td>\n",
       "      <td>0.0</td>\n",
       "      <td>0.0</td>\n",
       "      <td>0.0</td>\n",
       "    </tr>\n",
       "    <tr>\n",
       "      <th>1289</th>\n",
       "      <td>24</td>\n",
       "      <td>111</td>\n",
       "      <td>2.5</td>\n",
       "      <td>2018-02-14 21:40:54</td>\n",
       "      <td>Powder</td>\n",
       "      <td>1995</td>\n",
       "      <td>0</td>\n",
       "      <td>0</td>\n",
       "      <td>0</td>\n",
       "      <td>0</td>\n",
       "      <td>...</td>\n",
       "      <td>0.0</td>\n",
       "      <td>0.0</td>\n",
       "      <td>0.0</td>\n",
       "      <td>0.0</td>\n",
       "      <td>0.0</td>\n",
       "      <td>0.0</td>\n",
       "      <td>0.0</td>\n",
       "      <td>0.0</td>\n",
       "      <td>0.0</td>\n",
       "      <td>0.0</td>\n",
       "    </tr>\n",
       "    <tr>\n",
       "      <th>1701</th>\n",
       "      <td>34</td>\n",
       "      <td>111</td>\n",
       "      <td>2.5</td>\n",
       "      <td>2018-01-17 02:50:18</td>\n",
       "      <td>Babe</td>\n",
       "      <td>1995</td>\n",
       "      <td>0</td>\n",
       "      <td>0</td>\n",
       "      <td>0</td>\n",
       "      <td>1</td>\n",
       "      <td>...</td>\n",
       "      <td>0.0</td>\n",
       "      <td>0.0</td>\n",
       "      <td>0.0</td>\n",
       "      <td>0.0</td>\n",
       "      <td>0.0</td>\n",
       "      <td>0.0</td>\n",
       "      <td>0.0</td>\n",
       "      <td>0.0</td>\n",
       "      <td>0.0</td>\n",
       "      <td>0.0</td>\n",
       "    </tr>\n",
       "    <tr>\n",
       "      <th>1899</th>\n",
       "      <td>39</td>\n",
       "      <td>111</td>\n",
       "      <td>4.0</td>\n",
       "      <td>2018-01-17 02:44:34</td>\n",
       "      <td>Clueless</td>\n",
       "      <td>1995</td>\n",
       "      <td>0</td>\n",
       "      <td>0</td>\n",
       "      <td>0</td>\n",
       "      <td>0</td>\n",
       "      <td>...</td>\n",
       "      <td>0.0</td>\n",
       "      <td>0.0</td>\n",
       "      <td>0.0</td>\n",
       "      <td>0.0</td>\n",
       "      <td>0.0</td>\n",
       "      <td>0.0</td>\n",
       "      <td>0.0</td>\n",
       "      <td>0.0</td>\n",
       "      <td>0.0</td>\n",
       "      <td>0.0</td>\n",
       "    </tr>\n",
       "  </tbody>\n",
       "</table>\n",
       "<p>5 rows × 75 columns</p>\n",
       "</div>"
      ],
      "text/plain": [
       "      movieId  userId  rating               dates  \\\n",
       "394         5     111     3.5 2018-02-01 00:28:39   \n",
       "886        16     111     4.5 2018-02-14 21:39:28   \n",
       "1289       24     111     2.5 2018-02-14 21:40:54   \n",
       "1701       34     111     2.5 2018-01-17 02:50:18   \n",
       "1899       39     111     4.0 2018-01-17 02:44:34   \n",
       "\n",
       "                             title  year  Action  Adventure  Animation  \\\n",
       "394   Father of the Bride Part II   1995       0          0          0   \n",
       "886                        Casino   1995       0          0          0   \n",
       "1289                       Powder   1995       0          0          0   \n",
       "1701                         Babe   1995       0          0          0   \n",
       "1899                     Clueless   1995       0          0          0   \n",
       "\n",
       "      Children  ...  satire  comic book  psychological  animation  ghosts  \\\n",
       "394          0  ...     0.0         0.0            0.0        0.0     0.0   \n",
       "886          0  ...     0.0         0.0            0.0        0.0     0.0   \n",
       "1289         0  ...     0.0         0.0            0.0        0.0     0.0   \n",
       "1701         1  ...     0.0         0.0            0.0        0.0     0.0   \n",
       "1899         0  ...     0.0         0.0            0.0        0.0     0.0   \n",
       "\n",
       "      boxing  adolescence  imdb top 250  adultery  bittersweet  \n",
       "394      0.0          0.0           0.0       0.0          0.0  \n",
       "886      0.0          0.0           0.0       0.0          0.0  \n",
       "1289     0.0          0.0           0.0       0.0          0.0  \n",
       "1701     0.0          0.0           0.0       0.0          0.0  \n",
       "1899     0.0          0.0           0.0       0.0          0.0  \n",
       "\n",
       "[5 rows x 75 columns]"
      ]
     },
     "execution_count": 155,
     "metadata": {},
     "output_type": "execute_result"
    }
   ],
   "source": [
    "#list of movies seen by the user\n",
    "user = 111\n",
    "mask = df.userId == user\n",
    "df111 = df.loc[mask]\n",
    "df111.head()"
   ]
  },
  {
   "cell_type": "markdown",
   "metadata": {},
   "source": [
    "Last five ten movies seen by the person:"
   ]
  },
  {
   "cell_type": "code",
   "execution_count": 156,
   "metadata": {},
   "outputs": [],
   "source": [
    "def last_movies_seen(df, top):\n",
    "    list_seen = df.sort_values(by='dates', ascending=False).head(top)[['movieId','title']]\n",
    "    \n",
    "    return list_seen.reset_index(drop = True)"
   ]
  },
  {
   "cell_type": "code",
   "execution_count": 157,
   "metadata": {},
   "outputs": [
    {
     "data": {
      "text/html": [
       "<div>\n",
       "<style scoped>\n",
       "    .dataframe tbody tr th:only-of-type {\n",
       "        vertical-align: middle;\n",
       "    }\n",
       "\n",
       "    .dataframe tbody tr th {\n",
       "        vertical-align: top;\n",
       "    }\n",
       "\n",
       "    .dataframe thead th {\n",
       "        text-align: right;\n",
       "    }\n",
       "</style>\n",
       "<table border=\"1\" class=\"dataframe\">\n",
       "  <thead>\n",
       "    <tr style=\"text-align: right;\">\n",
       "      <th></th>\n",
       "      <th>movieId</th>\n",
       "      <th>title</th>\n",
       "    </tr>\n",
       "  </thead>\n",
       "  <tbody>\n",
       "    <tr>\n",
       "      <th>0</th>\n",
       "      <td>6365</td>\n",
       "      <td>Matrix Reloaded, The</td>\n",
       "    </tr>\n",
       "    <tr>\n",
       "      <th>1</th>\n",
       "      <td>4011</td>\n",
       "      <td>Snatch</td>\n",
       "    </tr>\n",
       "    <tr>\n",
       "      <th>2</th>\n",
       "      <td>54995</td>\n",
       "      <td>Planet Terror</td>\n",
       "    </tr>\n",
       "    <tr>\n",
       "      <th>3</th>\n",
       "      <td>55276</td>\n",
       "      <td>Michael Clayton</td>\n",
       "    </tr>\n",
       "    <tr>\n",
       "      <th>4</th>\n",
       "      <td>53519</td>\n",
       "      <td>Death Proof</td>\n",
       "    </tr>\n",
       "  </tbody>\n",
       "</table>\n",
       "</div>"
      ],
      "text/plain": [
       "   movieId                  title\n",
       "0     6365  Matrix Reloaded, The \n",
       "1     4011                Snatch \n",
       "2    54995         Planet Terror \n",
       "3    55276       Michael Clayton \n",
       "4    53519           Death Proof "
      ]
     },
     "execution_count": 157,
     "metadata": {},
     "output_type": "execute_result"
    }
   ],
   "source": [
    "last_5_movies_seen_111 = last_movies_seen(df111, 5)\n",
    "last_5_movies_seen_111"
   ]
  },
  {
   "cell_type": "code",
   "execution_count": null,
   "metadata": {},
   "outputs": [],
   "source": []
  },
  {
   "cell_type": "code",
   "execution_count": 158,
   "metadata": {},
   "outputs": [
    {
     "data": {
      "text/html": [
       "<div>\n",
       "<style scoped>\n",
       "    .dataframe tbody tr th:only-of-type {\n",
       "        vertical-align: middle;\n",
       "    }\n",
       "\n",
       "    .dataframe tbody tr th {\n",
       "        vertical-align: top;\n",
       "    }\n",
       "\n",
       "    .dataframe thead th {\n",
       "        text-align: right;\n",
       "    }\n",
       "</style>\n",
       "<table border=\"1\" class=\"dataframe\">\n",
       "  <thead>\n",
       "    <tr style=\"text-align: right;\">\n",
       "      <th></th>\n",
       "      <th>movieId</th>\n",
       "      <th>title</th>\n",
       "      <th>nb_ratings</th>\n",
       "    </tr>\n",
       "  </thead>\n",
       "  <tbody>\n",
       "    <tr>\n",
       "      <th>0</th>\n",
       "      <td>5</td>\n",
       "      <td>Father of the Bride Part II</td>\n",
       "      <td>1</td>\n",
       "    </tr>\n",
       "    <tr>\n",
       "      <th>404</th>\n",
       "      <td>79702</td>\n",
       "      <td>Scott Pilgrim vs. the World</td>\n",
       "      <td>1</td>\n",
       "    </tr>\n",
       "    <tr>\n",
       "      <th>426</th>\n",
       "      <td>86833</td>\n",
       "      <td>Bridesmaids</td>\n",
       "      <td>1</td>\n",
       "    </tr>\n",
       "    <tr>\n",
       "      <th>427</th>\n",
       "      <td>86880</td>\n",
       "      <td>Pirates of the Caribbean: On Stranger Tides</td>\n",
       "      <td>1</td>\n",
       "    </tr>\n",
       "    <tr>\n",
       "      <th>428</th>\n",
       "      <td>86911</td>\n",
       "      <td>Hangover Part II, The</td>\n",
       "      <td>1</td>\n",
       "    </tr>\n",
       "  </tbody>\n",
       "</table>\n",
       "</div>"
      ],
      "text/plain": [
       "     movieId                                         title  nb_ratings\n",
       "0          5                  Father of the Bride Part II            1\n",
       "404    79702                  Scott Pilgrim vs. the World            1\n",
       "426    86833                                  Bridesmaids            1\n",
       "427    86880  Pirates of the Caribbean: On Stranger Tides            1\n",
       "428    86911                        Hangover Part II, The            1"
      ]
     },
     "execution_count": 158,
     "metadata": {},
     "output_type": "execute_result"
    }
   ],
   "source": [
    "top_popular(df111, 5, 10000)"
   ]
  },
  {
   "cell_type": "code",
   "execution_count": 159,
   "metadata": {},
   "outputs": [
    {
     "data": {
      "text/html": [
       "<div>\n",
       "<style scoped>\n",
       "    .dataframe tbody tr th:only-of-type {\n",
       "        vertical-align: middle;\n",
       "    }\n",
       "\n",
       "    .dataframe tbody tr th {\n",
       "        vertical-align: top;\n",
       "    }\n",
       "\n",
       "    .dataframe thead th {\n",
       "        text-align: right;\n",
       "    }\n",
       "</style>\n",
       "<table border=\"1\" class=\"dataframe\">\n",
       "  <thead>\n",
       "    <tr style=\"text-align: right;\">\n",
       "      <th></th>\n",
       "      <th>movieId</th>\n",
       "      <th>title</th>\n",
       "      <th>rating_mean</th>\n",
       "      <th>rating_count</th>\n",
       "    </tr>\n",
       "  </thead>\n",
       "  <tbody>\n",
       "    <tr>\n",
       "      <th>405</th>\n",
       "      <td>80139</td>\n",
       "      <td>Jackass 2.5</td>\n",
       "      <td>5.0</td>\n",
       "      <td>1</td>\n",
       "    </tr>\n",
       "    <tr>\n",
       "      <th>382</th>\n",
       "      <td>72167</td>\n",
       "      <td>Boondock Saints II: All Saints Day, The</td>\n",
       "      <td>5.0</td>\n",
       "      <td>1</td>\n",
       "    </tr>\n",
       "    <tr>\n",
       "      <th>589</th>\n",
       "      <td>162344</td>\n",
       "      <td>Tom Segura: Mostly Stories</td>\n",
       "      <td>5.0</td>\n",
       "      <td>1</td>\n",
       "    </tr>\n",
       "    <tr>\n",
       "      <th>397</th>\n",
       "      <td>78209</td>\n",
       "      <td>Get Him to the Greek</td>\n",
       "      <td>5.0</td>\n",
       "      <td>1</td>\n",
       "    </tr>\n",
       "    <tr>\n",
       "      <th>401</th>\n",
       "      <td>79134</td>\n",
       "      <td>Grown Ups</td>\n",
       "      <td>5.0</td>\n",
       "      <td>1</td>\n",
       "    </tr>\n",
       "  </tbody>\n",
       "</table>\n",
       "</div>"
      ],
      "text/plain": [
       "     movieId                                     title  rating_mean  \\\n",
       "405    80139                              Jackass 2.5           5.0   \n",
       "382    72167  Boondock Saints II: All Saints Day, The           5.0   \n",
       "589   162344               Tom Segura: Mostly Stories           5.0   \n",
       "397    78209                     Get Him to the Greek           5.0   \n",
       "401    79134                                Grown Ups           5.0   \n",
       "\n",
       "     rating_count  \n",
       "405             1  \n",
       "382             1  \n",
       "589             1  \n",
       "397             1  \n",
       "401             1  "
      ]
     },
     "execution_count": 159,
     "metadata": {},
     "output_type": "execute_result"
    }
   ],
   "source": [
    "aux = top_rating(df111, 5, 10000)\n",
    "aux"
   ]
  },
  {
   "cell_type": "code",
   "execution_count": 160,
   "metadata": {},
   "outputs": [
    {
     "data": {
      "text/html": [
       "<div>\n",
       "<style scoped>\n",
       "    .dataframe tbody tr th:only-of-type {\n",
       "        vertical-align: middle;\n",
       "    }\n",
       "\n",
       "    .dataframe tbody tr th {\n",
       "        vertical-align: top;\n",
       "    }\n",
       "\n",
       "    .dataframe thead th {\n",
       "        text-align: right;\n",
       "    }\n",
       "</style>\n",
       "<table border=\"1\" class=\"dataframe\">\n",
       "  <thead>\n",
       "    <tr style=\"text-align: right;\">\n",
       "      <th></th>\n",
       "      <th>Genre</th>\n",
       "      <th>count</th>\n",
       "    </tr>\n",
       "  </thead>\n",
       "  <tbody>\n",
       "    <tr>\n",
       "      <th>0</th>\n",
       "      <td>Comedy</td>\n",
       "      <td>463</td>\n",
       "    </tr>\n",
       "    <tr>\n",
       "      <th>1</th>\n",
       "      <td>Drama</td>\n",
       "      <td>138</td>\n",
       "    </tr>\n",
       "    <tr>\n",
       "      <th>2</th>\n",
       "      <td>Action</td>\n",
       "      <td>133</td>\n",
       "    </tr>\n",
       "    <tr>\n",
       "      <th>3</th>\n",
       "      <td>Romance</td>\n",
       "      <td>118</td>\n",
       "    </tr>\n",
       "    <tr>\n",
       "      <th>4</th>\n",
       "      <td>Adventure</td>\n",
       "      <td>112</td>\n",
       "    </tr>\n",
       "    <tr>\n",
       "      <th>5</th>\n",
       "      <td>Thriller</td>\n",
       "      <td>100</td>\n",
       "    </tr>\n",
       "    <tr>\n",
       "      <th>6</th>\n",
       "      <td>Crime</td>\n",
       "      <td>85</td>\n",
       "    </tr>\n",
       "    <tr>\n",
       "      <th>7</th>\n",
       "      <td>Fantasy</td>\n",
       "      <td>73</td>\n",
       "    </tr>\n",
       "    <tr>\n",
       "      <th>8</th>\n",
       "      <td>Children</td>\n",
       "      <td>65</td>\n",
       "    </tr>\n",
       "    <tr>\n",
       "      <th>9</th>\n",
       "      <td>Animation</td>\n",
       "      <td>61</td>\n",
       "    </tr>\n",
       "  </tbody>\n",
       "</table>\n",
       "</div>"
      ],
      "text/plain": [
       "       Genre  count\n",
       "0     Comedy    463\n",
       "1      Drama    138\n",
       "2     Action    133\n",
       "3    Romance    118\n",
       "4  Adventure    112\n",
       "5   Thriller    100\n",
       "6      Crime     85\n",
       "7    Fantasy     73\n",
       "8   Children     65\n",
       "9  Animation     61"
      ]
     },
     "execution_count": 160,
     "metadata": {},
     "output_type": "execute_result"
    }
   ],
   "source": [
    "top_genre(df111, 10, 10000)"
   ]
  },
  {
   "cell_type": "code",
   "execution_count": 161,
   "metadata": {},
   "outputs": [
    {
     "data": {
      "image/png": "[encoded data removed]",
      "text/plain": [
       "<Figure size 432x288 with 1 Axes>"
      ]
     },
     "metadata": {},
     "output_type": "display_data"
    }
   ],
   "source": [
    "dataaa=top_genre(df111, 10, 10000)\n",
    "y = dataaa['count'].values\n",
    "mylabels = dataaa['Genre'].values\n",
    "\n",
    "plt.pie(y, labels = mylabels, shadow = True)\n",
    "plt.show()"
   ]
  },
  {
   "cell_type": "code",
   "execution_count": 162,
   "metadata": {},
   "outputs": [
    {
     "data": {
      "image/png": "[encoded data removed]",
      "text/plain": [
       "<Figure size 720x720 with 1 Axes>"
      ]
     },
     "metadata": {
      "needs_background": "light"
     },
     "output_type": "display_data"
    }
   ],
   "source": [
    "#Display the most popular categories of movies of user 111 in a different way\n",
    "plot_wordcloud(top_genre(df111, 10, 10000))"
   ]
  },
  {
   "cell_type": "code",
   "execution_count": 187,
   "metadata": {},
   "outputs": [
    {
     "data": {
      "image/png": "[encoded data removed]",
      "text/plain": [
       "<Figure size 720x720 with 1 Axes>"
      ]
     },
     "metadata": {
      "needs_background": "light"
     },
     "output_type": "display_data"
    }
   ],
   "source": [
    "#Display the most popular tags of movies of user 111  in a different way\n",
    "plot_wordcloud(top_tags(df111, 10, 10000))"
   ]
  },
  {
   "cell_type": "code",
   "execution_count": 190,
   "metadata": {},
   "outputs": [
    {
     "ename": "SyntaxError",
     "evalue": "invalid syntax (<ipython-input-190-911a9e917650>, line 1)",
     "output_type": "error",
     "traceback": [
      "\u001b[1;36m  File \u001b[1;32m\"<ipython-input-190-911a9e917650>\"\u001b[1;36m, line \u001b[1;32m1\u001b[0m\n\u001b[1;33m    df111['rating' = 5]\u001b[0m\n\u001b[1;37m                   ^\u001b[0m\n\u001b[1;31mSyntaxError\u001b[0m\u001b[1;31m:\u001b[0m invalid syntax\n"
     ]
    }
   ],
   "source": [
    "df111['rating']"
   ]
  },
  {
   "cell_type": "markdown",
   "metadata": {},
   "source": [
    "Let's try to get the poster of his favourites movies, there is a database connecting movie id with the poster"
   ]
  },
  {
   "cell_type": "code",
   "execution_count": 164,
   "metadata": {},
   "outputs": [
    {
     "name": "stdout",
     "output_type": "stream",
     "text": [
      "                              title  movieId  similarity_score\n",
      "9077  Andrew Dice Clay: Dice Rules    193609          0.823718\n",
      "1165                      In & Out      1614          0.823718\n",
      "1072           Waiting for Guffman      1449          0.823718\n",
      "1075                     Pest, The      1456          0.823718\n",
      "6734                       Extract     71248          0.823718\n"
     ]
    }
   ],
   "source": [
    "#Top of movies recommended to a user according to movies already seen\n",
    "sorted_similarity_movies = recommender(df,user,5)\n",
    "print(sorted_similarity_movies)"
   ]
  },
  {
   "cell_type": "code",
   "execution_count": 165,
   "metadata": {},
   "outputs": [
    {
     "name": "stdout",
     "output_type": "stream",
     "text": [
      "                                title  movieId  similarity_score\n",
      "4345            Matrix Reloaded, The      6365               1.0\n",
      "855                       Abyss, The      1127               0.8\n",
      "1163  Lost World: Jurassic Park, The      1544               0.8\n",
      "5255                        I, Robot      8644               0.8\n",
      "5933                         Stealth     34334               0.8\n",
      "4631         Matrix Revolutions, The      6934               0.8\n",
      "8636              Terminator Genisys    120799               0.8\n",
      "6812                      Death Race     61248               0.8\n",
      "8732                            Vice    127323               0.8\n",
      "418                    Jurassic Park       480               0.8\n"
     ]
    }
   ],
   "source": [
    "#Recommendation in function of the last movie view of user\n",
    "print(similar_movies(last_5_movies_seen_111.movieId[0],10))"
   ]
  },
  {
   "cell_type": "markdown",
   "metadata": {},
   "source": [
    "## Top 10 recommended films for the user using the Collaborative filtering model"
   ]
  },
  {
   "cell_type": "code",
   "execution_count": 166,
   "metadata": {},
   "outputs": [],
   "source": [
    "#function return the favorite film of a user\n",
    "def fav_film(df,userId):\n",
    "    df_user = df[df['userId']==userId].sort_values(by=['rating'],ascending=False).reset_index() \n",
    "    df_user.drop('index',axis =1,inplace=True) \n",
    "    for i in range(100) :\n",
    "        fav_movie_Id = df_user['movieId'][i]\n",
    "        fav_movie_title = df_user['title'][i]  \n",
    "        if (df[df['movieId']==fav_movie_Id].shape[0]>=10) :\n",
    "            return  fav_movie_title"
   ]
  },
  {
   "cell_type": "code",
   "execution_count": 167,
   "metadata": {},
   "outputs": [
    {
     "data": {
      "text/plain": [
       "'Get Him to the Greek '"
      ]
     },
     "execution_count": 167,
     "metadata": {},
     "output_type": "execute_result"
    }
   ],
   "source": [
    "fav_film(df,111)"
   ]
  },
  {
   "cell_type": "code",
   "execution_count": 168,
   "metadata": {},
   "outputs": [
    {
     "name": "stdout",
     "output_type": "stream",
     "text": [
      "You have input movie: Get Him to the Greek \n",
      "Found possible matches in our database: ['Get Him to the Greek (2010)']\n",
      "\n",
      "Recommendation system start to make inference\n",
      "......\n",
      "\n",
      "It took my system 0.01s to make inference \n",
      "              \n",
      "Top recommendations for Get Him to the Greek :\n",
      "1: Due Date (2010), with distance of 0.419862208102338\n",
      "2: This Is the End (2013), with distance of 0.4599671176505161\n",
      "3: Super Troopers (2001), with distance of 0.4840707421005104\n",
      "4: Role Models (2008), with distance of 0.486906160005524\n",
      "5: Click (2006), with distance of 0.5213340099618746\n",
      "6: Spy (2015), with distance of 0.5254695536143745\n",
      "7: American Hustle (2013), with distance of 0.5317873185219577\n",
      "8: Nightcrawler (2014), with distance of 0.5320851181211347\n",
      "9: Horrible Bosses (2011), with distance of 0.5323110846549173\n",
      "10: 21 Jump Street (2012), with distance of 0.5350358189274994\n"
     ]
    }
   ],
   "source": [
    "make_recommendations(fav_film(df,111) , 10)"
   ]
  },
  {
   "cell_type": "markdown",
   "metadata": {},
   "source": [
    "## Top 10 recommended films for the user using the Matrix_Factorization model"
   ]
  },
  {
   "cell_type": "code",
   "execution_count": 169,
   "metadata": {},
   "outputs": [
    {
     "data": {
      "text/html": [
       "<div>\n",
       "<style scoped>\n",
       "    .dataframe tbody tr th:only-of-type {\n",
       "        vertical-align: middle;\n",
       "    }\n",
       "\n",
       "    .dataframe tbody tr th {\n",
       "        vertical-align: top;\n",
       "    }\n",
       "\n",
       "    .dataframe thead th {\n",
       "        text-align: right;\n",
       "    }\n",
       "</style>\n",
       "<table border=\"1\" class=\"dataframe\">\n",
       "  <thead>\n",
       "    <tr style=\"text-align: right;\">\n",
       "      <th></th>\n",
       "      <th>title</th>\n",
       "      <th>movieId</th>\n",
       "      <th>ratings</th>\n",
       "    </tr>\n",
       "  </thead>\n",
       "  <tbody>\n",
       "    <tr>\n",
       "      <th>5320</th>\n",
       "      <td>Bad Boy Bubby</td>\n",
       "      <td>26810</td>\n",
       "      <td>4.686254</td>\n",
       "    </tr>\n",
       "    <tr>\n",
       "      <th>5394</th>\n",
       "      <td>My Sassy Girl (Yeopgijeogin geunyeo)</td>\n",
       "      <td>27523</td>\n",
       "      <td>4.460133</td>\n",
       "    </tr>\n",
       "    <tr>\n",
       "      <th>2471</th>\n",
       "      <td>Guess Who's Coming to Dinner</td>\n",
       "      <td>3451</td>\n",
       "      <td>4.418791</td>\n",
       "    </tr>\n",
       "    <tr>\n",
       "      <th>3865</th>\n",
       "      <td>My Dinner with André</td>\n",
       "      <td>5772</td>\n",
       "      <td>4.408545</td>\n",
       "    </tr>\n",
       "    <tr>\n",
       "      <th>5914</th>\n",
       "      <td>Peaceful Warrior</td>\n",
       "      <td>45503</td>\n",
       "      <td>4.406292</td>\n",
       "    </tr>\n",
       "    <tr>\n",
       "      <th>8705</th>\n",
       "      <td>Captain Fantastic</td>\n",
       "      <td>158966</td>\n",
       "      <td>4.385114</td>\n",
       "    </tr>\n",
       "    <tr>\n",
       "      <th>5766</th>\n",
       "      <td>Match Factory Girl, The (Tulitikkutehtaan tyttö)</td>\n",
       "      <td>40491</td>\n",
       "      <td>4.376869</td>\n",
       "    </tr>\n",
       "    <tr>\n",
       "      <th>704</th>\n",
       "      <td>It's a Wonderful Life</td>\n",
       "      <td>953</td>\n",
       "      <td>4.373777</td>\n",
       "    </tr>\n",
       "    <tr>\n",
       "      <th>4557</th>\n",
       "      <td>Adam's Rib</td>\n",
       "      <td>7121</td>\n",
       "      <td>4.369536</td>\n",
       "    </tr>\n",
       "    <tr>\n",
       "      <th>2414</th>\n",
       "      <td>Taking of Pelham One Two Three, The</td>\n",
       "      <td>3384</td>\n",
       "      <td>4.346308</td>\n",
       "    </tr>\n",
       "  </tbody>\n",
       "</table>\n",
       "</div>"
      ],
      "text/plain": [
       "                                                  title  movieId   ratings\n",
       "5320                                     Bad Boy Bubby     26810  4.686254\n",
       "5394              My Sassy Girl (Yeopgijeogin geunyeo)     27523  4.460133\n",
       "2471                      Guess Who's Coming to Dinner      3451  4.418791\n",
       "3865                              My Dinner with André      5772  4.408545\n",
       "5914                                  Peaceful Warrior     45503  4.406292\n",
       "8705                                 Captain Fantastic    158966  4.385114\n",
       "5766  Match Factory Girl, The (Tulitikkutehtaan tyttö)     40491  4.376869\n",
       "704                              It's a Wonderful Life       953  4.373777\n",
       "4557                                        Adam's Rib      7121  4.369536\n",
       "2414               Taking of Pelham One Two Three, The      3384  4.346308"
      ]
     },
     "execution_count": 169,
     "metadata": {},
     "output_type": "execute_result"
    }
   ],
   "source": [
    "predict_ratings_user(df, 111, 10)"
   ]
  },
  {
   "cell_type": "code",
   "execution_count": null,
   "metadata": {},
   "outputs": [],
   "source": []
  },
  {
   "cell_type": "code",
   "execution_count": null,
   "metadata": {},
   "outputs": [],
   "source": []
  },
  {
   "cell_type": "code",
   "execution_count": null,
   "metadata": {},
   "outputs": [],
   "source": []
  },
  {
   "cell_type": "code",
   "execution_count": null,
   "metadata": {},
   "outputs": [],
   "source": []
  },
  {
   "cell_type": "code",
   "execution_count": null,
   "metadata": {},
   "outputs": [],
   "source": []
  },
  {
   "cell_type": "code",
   "execution_count": null,
   "metadata": {},
   "outputs": [],
   "source": []
  }
 ],
 "metadata": {
  "kernelspec": {
   "display_name": "Python 3",
   "language": "python",
   "name": "python3"
  },
  "language_info": {
   "codemirror_mode": {
    "name": "ipython",
    "version": 3
   },
   "file_extension": ".py",
   "mimetype": "text/x-python",
   "name": "python",
   "nbconvert_exporter": "python",
   "pygments_lexer": "ipython3",
   "version": "3.8.5"
  }
 },
 "nbformat": 4,
 "nbformat_minor": 4
}
